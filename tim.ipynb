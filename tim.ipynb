{
 "cells": [
  {
   "cell_type": "code",
   "execution_count": 4,
   "id": "initial_id",
   "metadata": {
    "collapsed": true,
    "ExecuteTime": {
     "end_time": "2024-04-15T01:47:10.194306Z",
     "start_time": "2024-04-15T01:47:10.188689Z"
    }
   },
   "outputs": [],
   "source": [
    "import pandas as pd\n",
    "from sklearn.svm import SVC\n",
    "from sklearn.metrics import classification_report, confusion_matrix\n",
    "from sklearn.model_selection import train_test_split\n",
    "from sklearn.inspection import permutation_importance\n",
    "import matplotlib as plt"
   ]
  },
  {
   "cell_type": "code",
   "execution_count": 5,
   "outputs": [],
   "source": [
    "df = pd.read_csv(\"archive/merged_data.csv\")"
   ],
   "metadata": {
    "collapsed": false,
    "ExecuteTime": {
     "end_time": "2024-04-15T01:47:10.551434Z",
     "start_time": "2024-04-15T01:47:10.529284Z"
    }
   },
   "id": "bd5690f6d618e480"
  },
  {
   "cell_type": "code",
   "execution_count": 6,
   "outputs": [
    {
     "data": {
      "text/plain": "   Unnamed: 0  player_id  alt_player_id   player_name_x pos_abbr_x  \\\n0           0        368        3924331    Justin Smith         DE   \n1           1       4019        4239824    Bryan Thomas         DE   \n2           2       4542        4240031  Derrick Brooks         LB   \n3           3       4559        4240091     Joe Johnson         DE   \n4           4      14420        3915189     Royce Smith         OG   \n\n        school_x school_abbr_x school_primary_color school_alt_color  season  \\\n0       Missouri           MIZ              #000000          #000000    2016   \n1            UAB           UAB              #003b28          #ffc845    2018   \n2  Florida State           FSU              #782F40          #ceb888    2020   \n3     Louisville           LOU              #ad000a          #cccccc    2020   \n4        Georgia           UGA              #CC0000          #000000    2017   \n\n   ...  team  team_abbr  team_logo_espn  guid  weight  height  pos_rk  ovr_rk  \\\n0  ...   NaN        NaN             NaN   NaN     NaN     NaN     NaN     NaN   \n1  ...   NaN        NaN             NaN   NaN     NaN     NaN     NaN     NaN   \n2  ...   NaN        NaN             NaN   NaN     NaN     NaN     NaN     NaN   \n3  ...   NaN        NaN             NaN   NaN     NaN     NaN     NaN     NaN   \n4  ...   NaN        NaN             NaN   NaN     NaN     NaN     NaN     NaN   \n\n   grade  player_image  \n0    NaN           NaN  \n1    NaN           NaN  \n2    NaN           NaN  \n3    NaN           NaN  \n4    NaN           NaN  \n\n[5 rows x 93 columns]",
      "text/html": "<div>\n<style scoped>\n    .dataframe tbody tr th:only-of-type {\n        vertical-align: middle;\n    }\n\n    .dataframe tbody tr th {\n        vertical-align: top;\n    }\n\n    .dataframe thead th {\n        text-align: right;\n    }\n</style>\n<table border=\"1\" class=\"dataframe\">\n  <thead>\n    <tr style=\"text-align: right;\">\n      <th></th>\n      <th>Unnamed: 0</th>\n      <th>player_id</th>\n      <th>alt_player_id</th>\n      <th>player_name_x</th>\n      <th>pos_abbr_x</th>\n      <th>school_x</th>\n      <th>school_abbr_x</th>\n      <th>school_primary_color</th>\n      <th>school_alt_color</th>\n      <th>season</th>\n      <th>...</th>\n      <th>team</th>\n      <th>team_abbr</th>\n      <th>team_logo_espn</th>\n      <th>guid</th>\n      <th>weight</th>\n      <th>height</th>\n      <th>pos_rk</th>\n      <th>ovr_rk</th>\n      <th>grade</th>\n      <th>player_image</th>\n    </tr>\n  </thead>\n  <tbody>\n    <tr>\n      <th>0</th>\n      <td>0</td>\n      <td>368</td>\n      <td>3924331</td>\n      <td>Justin Smith</td>\n      <td>DE</td>\n      <td>Missouri</td>\n      <td>MIZ</td>\n      <td>#000000</td>\n      <td>#000000</td>\n      <td>2016</td>\n      <td>...</td>\n      <td>NaN</td>\n      <td>NaN</td>\n      <td>NaN</td>\n      <td>NaN</td>\n      <td>NaN</td>\n      <td>NaN</td>\n      <td>NaN</td>\n      <td>NaN</td>\n      <td>NaN</td>\n      <td>NaN</td>\n    </tr>\n    <tr>\n      <th>1</th>\n      <td>1</td>\n      <td>4019</td>\n      <td>4239824</td>\n      <td>Bryan Thomas</td>\n      <td>DE</td>\n      <td>UAB</td>\n      <td>UAB</td>\n      <td>#003b28</td>\n      <td>#ffc845</td>\n      <td>2018</td>\n      <td>...</td>\n      <td>NaN</td>\n      <td>NaN</td>\n      <td>NaN</td>\n      <td>NaN</td>\n      <td>NaN</td>\n      <td>NaN</td>\n      <td>NaN</td>\n      <td>NaN</td>\n      <td>NaN</td>\n      <td>NaN</td>\n    </tr>\n    <tr>\n      <th>2</th>\n      <td>2</td>\n      <td>4542</td>\n      <td>4240031</td>\n      <td>Derrick Brooks</td>\n      <td>LB</td>\n      <td>Florida State</td>\n      <td>FSU</td>\n      <td>#782F40</td>\n      <td>#ceb888</td>\n      <td>2020</td>\n      <td>...</td>\n      <td>NaN</td>\n      <td>NaN</td>\n      <td>NaN</td>\n      <td>NaN</td>\n      <td>NaN</td>\n      <td>NaN</td>\n      <td>NaN</td>\n      <td>NaN</td>\n      <td>NaN</td>\n      <td>NaN</td>\n    </tr>\n    <tr>\n      <th>3</th>\n      <td>3</td>\n      <td>4559</td>\n      <td>4240091</td>\n      <td>Joe Johnson</td>\n      <td>DE</td>\n      <td>Louisville</td>\n      <td>LOU</td>\n      <td>#ad000a</td>\n      <td>#cccccc</td>\n      <td>2020</td>\n      <td>...</td>\n      <td>NaN</td>\n      <td>NaN</td>\n      <td>NaN</td>\n      <td>NaN</td>\n      <td>NaN</td>\n      <td>NaN</td>\n      <td>NaN</td>\n      <td>NaN</td>\n      <td>NaN</td>\n      <td>NaN</td>\n    </tr>\n    <tr>\n      <th>4</th>\n      <td>4</td>\n      <td>14420</td>\n      <td>3915189</td>\n      <td>Royce Smith</td>\n      <td>OG</td>\n      <td>Georgia</td>\n      <td>UGA</td>\n      <td>#CC0000</td>\n      <td>#000000</td>\n      <td>2017</td>\n      <td>...</td>\n      <td>NaN</td>\n      <td>NaN</td>\n      <td>NaN</td>\n      <td>NaN</td>\n      <td>NaN</td>\n      <td>NaN</td>\n      <td>NaN</td>\n      <td>NaN</td>\n      <td>NaN</td>\n      <td>NaN</td>\n    </tr>\n  </tbody>\n</table>\n<p>5 rows × 93 columns</p>\n</div>"
     },
     "execution_count": 6,
     "metadata": {},
     "output_type": "execute_result"
    }
   ],
   "source": [
    "df.head()"
   ],
   "metadata": {
    "collapsed": false,
    "ExecuteTime": {
     "end_time": "2024-04-15T01:47:10.949740Z",
     "start_time": "2024-04-15T01:47:10.942761Z"
    }
   },
   "id": "b1637596f4ed251f"
  },
  {
   "cell_type": "code",
   "execution_count": 7,
   "outputs": [],
   "source": [
    "columns_to_drop = [\n",
    "    'Unnamed: 0', 'player_id', 'player_name_x', 'alt_player_id', 'school_abbr_x', \n",
    "    'school_primary_color', 'school_alt_color', 'pos_abbr_y', 'school_y', \n",
    "    'school_abbr_y', 'pick', 'overall', 'team_logo_espn', 'player_image', \n",
    "    'player_name_y', 'traded', 'trade_note', 'link', 'team_abbr', 'guid', 'draft_year'\n",
    "]\n",
    "\n",
    "# Create dummy variables for categorical features\n",
    "df = pd.get_dummies(df, columns=['school_x', 'pos_abbr_x', 'school_name', 'position', 'team'])\n",
    "\n",
    "# Create a binary column for drafted/not drafted\n",
    "df['drafted'] = ~df['round'].isna().astype(int)\n",
    "\n",
    "# Now define the target variable\n",
    "y = df['drafted']\n",
    "\n",
    "# Drop the unnecessary columns, including those you created dummies from if they're no longer needed\n",
    "df = df.drop(columns_to_drop + ['round'], axis=1, errors='ignore')\n",
    "\n",
    "# Fill NaN values with 0\n",
    "df = df.fillna(0)\n",
    "\n",
    "# Your features are the remaining columns\n",
    "X = df.drop(['drafted'], axis=1)\n"
   ],
   "metadata": {
    "collapsed": false,
    "ExecuteTime": {
     "end_time": "2024-04-15T01:47:13.495513Z",
     "start_time": "2024-04-15T01:47:13.482977Z"
    }
   },
   "id": "90f1ac3688f71307"
  },
  {
   "cell_type": "code",
   "execution_count": 23,
   "outputs": [
    {
     "data": {
      "text/plain": "0      -2\n1      -2\n2      -2\n3      -2\n4      -2\n       ..\n1121   -2\n1122   -2\n1123   -2\n1124   -2\n1125   -2\nName: drafted, Length: 1126, dtype: int64"
     },
     "execution_count": 23,
     "metadata": {},
     "output_type": "execute_result"
    }
   ],
   "source": [
    "y"
   ],
   "metadata": {
    "collapsed": false,
    "ExecuteTime": {
     "end_time": "2024-04-15T01:54:04.831555Z",
     "start_time": "2024-04-15T01:54:04.823902Z"
    }
   },
   "id": "9a11720096bcb529"
  },
  {
   "cell_type": "code",
   "execution_count": 24,
   "outputs": [
    {
     "data": {
      "text/plain": "      season  active  all_star  Assist Tackles  Completion Percentage  \\\n0       2016    True     False             0.0                    0.0   \n1       2018    True     False            18.0                    0.0   \n2       2020    True     False             4.0                    0.0   \n3       2020    True     False             0.0                    0.0   \n4       2017    True     False            52.0                    0.0   \n...      ...     ...       ...             ...                    ...   \n1121    2020    True     False             6.0                    0.0   \n1122    2020    True     False             0.0                    0.0   \n1123    2020    True     False             0.0                    0.0   \n1124    2020    True     False            12.0                    0.0   \n1125    2020    True     False            26.0                    0.0   \n\n      Completions  Extra Points Made  FGM 1-19 yards  FGM 20-29 yards  \\\n0             0.0                0.0             0.0              0.0   \n1             0.0                0.0             0.0              0.0   \n2             0.0                0.0             0.0              0.0   \n3             0.0                0.0             0.0              0.0   \n4             0.0                0.0             0.0              0.0   \n...           ...                ...             ...              ...   \n1121          0.0                0.0             0.0              0.0   \n1122          0.0                0.0             0.0              0.0   \n1123          0.0               12.0             0.0              1.0   \n1124          0.0                0.0             0.0              0.0   \n1125          0.0                0.0             0.0              0.0   \n\n      FGM 30-39 yards  ...  team_New York Jets  team_Oakland Raiders  \\\n0                 0.0  ...               False                 False   \n1                 0.0  ...               False                 False   \n2                 0.0  ...               False                 False   \n3                 0.0  ...               False                 False   \n4                 0.0  ...               False                 False   \n...               ...  ...                 ...                   ...   \n1121              0.0  ...               False                 False   \n1122              0.0  ...               False                 False   \n1123              0.0  ...               False                 False   \n1124              0.0  ...               False                 False   \n1125              0.0  ...               False                 False   \n\n      team_Philadelphia Eagles  team_Pittsburgh Steelers  \\\n0                        False                     False   \n1                        False                     False   \n2                        False                     False   \n3                        False                     False   \n4                        False                     False   \n...                        ...                       ...   \n1121                     False                     False   \n1122                     False                     False   \n1123                     False                     False   \n1124                     False                     False   \n1125                     False                     False   \n\n      team_San Francisco 49ers  team_Seattle Seahawks  \\\n0                        False                  False   \n1                        False                  False   \n2                        False                  False   \n3                        False                  False   \n4                        False                  False   \n...                        ...                    ...   \n1121                     False                  False   \n1122                     False                  False   \n1123                     False                  False   \n1124                     False                  False   \n1125                     False                  False   \n\n      team_Tampa Bay Buccaneers  team_Tennessee Titans  team_Washington  \\\n0                         False                  False            False   \n1                         False                  False            False   \n2                         False                  False            False   \n3                         False                  False            False   \n4                         False                  False            False   \n...                         ...                    ...              ...   \n1121                      False                  False            False   \n1122                      False                  False            False   \n1123                      False                  False            False   \n1124                      False                  False            False   \n1125                      False                  False            False   \n\n      team_Washington Redskins  \n0                        False  \n1                        False  \n2                        False  \n3                        False  \n4                        False  \n...                        ...  \n1121                     False  \n1122                     False  \n1123                     False  \n1124                     False  \n1125                     False  \n\n[1126 rows x 373 columns]",
      "text/html": "<div>\n<style scoped>\n    .dataframe tbody tr th:only-of-type {\n        vertical-align: middle;\n    }\n\n    .dataframe tbody tr th {\n        vertical-align: top;\n    }\n\n    .dataframe thead th {\n        text-align: right;\n    }\n</style>\n<table border=\"1\" class=\"dataframe\">\n  <thead>\n    <tr style=\"text-align: right;\">\n      <th></th>\n      <th>season</th>\n      <th>active</th>\n      <th>all_star</th>\n      <th>Assist Tackles</th>\n      <th>Completion Percentage</th>\n      <th>Completions</th>\n      <th>Extra Points Made</th>\n      <th>FGM 1-19 yards</th>\n      <th>FGM 20-29 yards</th>\n      <th>FGM 30-39 yards</th>\n      <th>...</th>\n      <th>team_New York Jets</th>\n      <th>team_Oakland Raiders</th>\n      <th>team_Philadelphia Eagles</th>\n      <th>team_Pittsburgh Steelers</th>\n      <th>team_San Francisco 49ers</th>\n      <th>team_Seattle Seahawks</th>\n      <th>team_Tampa Bay Buccaneers</th>\n      <th>team_Tennessee Titans</th>\n      <th>team_Washington</th>\n      <th>team_Washington Redskins</th>\n    </tr>\n  </thead>\n  <tbody>\n    <tr>\n      <th>0</th>\n      <td>2016</td>\n      <td>True</td>\n      <td>False</td>\n      <td>0.0</td>\n      <td>0.0</td>\n      <td>0.0</td>\n      <td>0.0</td>\n      <td>0.0</td>\n      <td>0.0</td>\n      <td>0.0</td>\n      <td>...</td>\n      <td>False</td>\n      <td>False</td>\n      <td>False</td>\n      <td>False</td>\n      <td>False</td>\n      <td>False</td>\n      <td>False</td>\n      <td>False</td>\n      <td>False</td>\n      <td>False</td>\n    </tr>\n    <tr>\n      <th>1</th>\n      <td>2018</td>\n      <td>True</td>\n      <td>False</td>\n      <td>18.0</td>\n      <td>0.0</td>\n      <td>0.0</td>\n      <td>0.0</td>\n      <td>0.0</td>\n      <td>0.0</td>\n      <td>0.0</td>\n      <td>...</td>\n      <td>False</td>\n      <td>False</td>\n      <td>False</td>\n      <td>False</td>\n      <td>False</td>\n      <td>False</td>\n      <td>False</td>\n      <td>False</td>\n      <td>False</td>\n      <td>False</td>\n    </tr>\n    <tr>\n      <th>2</th>\n      <td>2020</td>\n      <td>True</td>\n      <td>False</td>\n      <td>4.0</td>\n      <td>0.0</td>\n      <td>0.0</td>\n      <td>0.0</td>\n      <td>0.0</td>\n      <td>0.0</td>\n      <td>0.0</td>\n      <td>...</td>\n      <td>False</td>\n      <td>False</td>\n      <td>False</td>\n      <td>False</td>\n      <td>False</td>\n      <td>False</td>\n      <td>False</td>\n      <td>False</td>\n      <td>False</td>\n      <td>False</td>\n    </tr>\n    <tr>\n      <th>3</th>\n      <td>2020</td>\n      <td>True</td>\n      <td>False</td>\n      <td>0.0</td>\n      <td>0.0</td>\n      <td>0.0</td>\n      <td>0.0</td>\n      <td>0.0</td>\n      <td>0.0</td>\n      <td>0.0</td>\n      <td>...</td>\n      <td>False</td>\n      <td>False</td>\n      <td>False</td>\n      <td>False</td>\n      <td>False</td>\n      <td>False</td>\n      <td>False</td>\n      <td>False</td>\n      <td>False</td>\n      <td>False</td>\n    </tr>\n    <tr>\n      <th>4</th>\n      <td>2017</td>\n      <td>True</td>\n      <td>False</td>\n      <td>52.0</td>\n      <td>0.0</td>\n      <td>0.0</td>\n      <td>0.0</td>\n      <td>0.0</td>\n      <td>0.0</td>\n      <td>0.0</td>\n      <td>...</td>\n      <td>False</td>\n      <td>False</td>\n      <td>False</td>\n      <td>False</td>\n      <td>False</td>\n      <td>False</td>\n      <td>False</td>\n      <td>False</td>\n      <td>False</td>\n      <td>False</td>\n    </tr>\n    <tr>\n      <th>...</th>\n      <td>...</td>\n      <td>...</td>\n      <td>...</td>\n      <td>...</td>\n      <td>...</td>\n      <td>...</td>\n      <td>...</td>\n      <td>...</td>\n      <td>...</td>\n      <td>...</td>\n      <td>...</td>\n      <td>...</td>\n      <td>...</td>\n      <td>...</td>\n      <td>...</td>\n      <td>...</td>\n      <td>...</td>\n      <td>...</td>\n      <td>...</td>\n      <td>...</td>\n      <td>...</td>\n    </tr>\n    <tr>\n      <th>1121</th>\n      <td>2020</td>\n      <td>True</td>\n      <td>False</td>\n      <td>6.0</td>\n      <td>0.0</td>\n      <td>0.0</td>\n      <td>0.0</td>\n      <td>0.0</td>\n      <td>0.0</td>\n      <td>0.0</td>\n      <td>...</td>\n      <td>False</td>\n      <td>False</td>\n      <td>False</td>\n      <td>False</td>\n      <td>False</td>\n      <td>False</td>\n      <td>False</td>\n      <td>False</td>\n      <td>False</td>\n      <td>False</td>\n    </tr>\n    <tr>\n      <th>1122</th>\n      <td>2020</td>\n      <td>True</td>\n      <td>False</td>\n      <td>0.0</td>\n      <td>0.0</td>\n      <td>0.0</td>\n      <td>0.0</td>\n      <td>0.0</td>\n      <td>0.0</td>\n      <td>0.0</td>\n      <td>...</td>\n      <td>False</td>\n      <td>False</td>\n      <td>False</td>\n      <td>False</td>\n      <td>False</td>\n      <td>False</td>\n      <td>False</td>\n      <td>False</td>\n      <td>False</td>\n      <td>False</td>\n    </tr>\n    <tr>\n      <th>1123</th>\n      <td>2020</td>\n      <td>True</td>\n      <td>False</td>\n      <td>0.0</td>\n      <td>0.0</td>\n      <td>0.0</td>\n      <td>12.0</td>\n      <td>0.0</td>\n      <td>1.0</td>\n      <td>0.0</td>\n      <td>...</td>\n      <td>False</td>\n      <td>False</td>\n      <td>False</td>\n      <td>False</td>\n      <td>False</td>\n      <td>False</td>\n      <td>False</td>\n      <td>False</td>\n      <td>False</td>\n      <td>False</td>\n    </tr>\n    <tr>\n      <th>1124</th>\n      <td>2020</td>\n      <td>True</td>\n      <td>False</td>\n      <td>12.0</td>\n      <td>0.0</td>\n      <td>0.0</td>\n      <td>0.0</td>\n      <td>0.0</td>\n      <td>0.0</td>\n      <td>0.0</td>\n      <td>...</td>\n      <td>False</td>\n      <td>False</td>\n      <td>False</td>\n      <td>False</td>\n      <td>False</td>\n      <td>False</td>\n      <td>False</td>\n      <td>False</td>\n      <td>False</td>\n      <td>False</td>\n    </tr>\n    <tr>\n      <th>1125</th>\n      <td>2020</td>\n      <td>True</td>\n      <td>False</td>\n      <td>26.0</td>\n      <td>0.0</td>\n      <td>0.0</td>\n      <td>0.0</td>\n      <td>0.0</td>\n      <td>0.0</td>\n      <td>0.0</td>\n      <td>...</td>\n      <td>False</td>\n      <td>False</td>\n      <td>False</td>\n      <td>False</td>\n      <td>False</td>\n      <td>False</td>\n      <td>False</td>\n      <td>False</td>\n      <td>False</td>\n      <td>False</td>\n    </tr>\n  </tbody>\n</table>\n<p>1126 rows × 373 columns</p>\n</div>"
     },
     "execution_count": 24,
     "metadata": {},
     "output_type": "execute_result"
    }
   ],
   "source": [
    "X"
   ],
   "metadata": {
    "collapsed": false,
    "ExecuteTime": {
     "end_time": "2024-04-15T01:54:53.425475Z",
     "start_time": "2024-04-15T01:54:53.409977Z"
    }
   },
   "id": "4d935f8bdf6dbb86"
  },
  {
   "cell_type": "code",
   "execution_count": 9,
   "outputs": [],
   "source": [
    "X_train, X_test, y_train, y_test = train_test_split(X, y, test_size=0.4, random_state=42)"
   ],
   "metadata": {
    "collapsed": false,
    "ExecuteTime": {
     "end_time": "2024-04-15T01:47:15.707361Z",
     "start_time": "2024-04-15T01:47:15.696006Z"
    }
   },
   "id": "9c71a94fbad600a7"
  },
  {
   "cell_type": "code",
   "execution_count": 10,
   "outputs": [
    {
     "data": {
      "text/plain": "SVC(kernel='linear', random_state=42)",
      "text/html": "<style>#sk-container-id-1 {\n  /* Definition of color scheme common for light and dark mode */\n  --sklearn-color-text: black;\n  --sklearn-color-line: gray;\n  /* Definition of color scheme for unfitted estimators */\n  --sklearn-color-unfitted-level-0: #fff5e6;\n  --sklearn-color-unfitted-level-1: #f6e4d2;\n  --sklearn-color-unfitted-level-2: #ffe0b3;\n  --sklearn-color-unfitted-level-3: chocolate;\n  /* Definition of color scheme for fitted estimators */\n  --sklearn-color-fitted-level-0: #f0f8ff;\n  --sklearn-color-fitted-level-1: #d4ebff;\n  --sklearn-color-fitted-level-2: #b3dbfd;\n  --sklearn-color-fitted-level-3: cornflowerblue;\n\n  /* Specific color for light theme */\n  --sklearn-color-text-on-default-background: var(--sg-text-color, var(--theme-code-foreground, var(--jp-content-font-color1, black)));\n  --sklearn-color-background: var(--sg-background-color, var(--theme-background, var(--jp-layout-color0, white)));\n  --sklearn-color-border-box: var(--sg-text-color, var(--theme-code-foreground, var(--jp-content-font-color1, black)));\n  --sklearn-color-icon: #696969;\n\n  @media (prefers-color-scheme: dark) {\n    /* Redefinition of color scheme for dark theme */\n    --sklearn-color-text-on-default-background: var(--sg-text-color, var(--theme-code-foreground, var(--jp-content-font-color1, white)));\n    --sklearn-color-background: var(--sg-background-color, var(--theme-background, var(--jp-layout-color0, #111)));\n    --sklearn-color-border-box: var(--sg-text-color, var(--theme-code-foreground, var(--jp-content-font-color1, white)));\n    --sklearn-color-icon: #878787;\n  }\n}\n\n#sk-container-id-1 {\n  color: var(--sklearn-color-text);\n}\n\n#sk-container-id-1 pre {\n  padding: 0;\n}\n\n#sk-container-id-1 input.sk-hidden--visually {\n  border: 0;\n  clip: rect(1px 1px 1px 1px);\n  clip: rect(1px, 1px, 1px, 1px);\n  height: 1px;\n  margin: -1px;\n  overflow: hidden;\n  padding: 0;\n  position: absolute;\n  width: 1px;\n}\n\n#sk-container-id-1 div.sk-dashed-wrapped {\n  border: 1px dashed var(--sklearn-color-line);\n  margin: 0 0.4em 0.5em 0.4em;\n  box-sizing: border-box;\n  padding-bottom: 0.4em;\n  background-color: var(--sklearn-color-background);\n}\n\n#sk-container-id-1 div.sk-container {\n  /* jupyter's `normalize.less` sets `[hidden] { display: none; }`\n     but bootstrap.min.css set `[hidden] { display: none !important; }`\n     so we also need the `!important` here to be able to override the\n     default hidden behavior on the sphinx rendered scikit-learn.org.\n     See: https://github.com/scikit-learn/scikit-learn/issues/21755 */\n  display: inline-block !important;\n  position: relative;\n}\n\n#sk-container-id-1 div.sk-text-repr-fallback {\n  display: none;\n}\n\ndiv.sk-parallel-item,\ndiv.sk-serial,\ndiv.sk-item {\n  /* draw centered vertical line to link estimators */\n  background-image: linear-gradient(var(--sklearn-color-text-on-default-background), var(--sklearn-color-text-on-default-background));\n  background-size: 2px 100%;\n  background-repeat: no-repeat;\n  background-position: center center;\n}\n\n/* Parallel-specific style estimator block */\n\n#sk-container-id-1 div.sk-parallel-item::after {\n  content: \"\";\n  width: 100%;\n  border-bottom: 2px solid var(--sklearn-color-text-on-default-background);\n  flex-grow: 1;\n}\n\n#sk-container-id-1 div.sk-parallel {\n  display: flex;\n  align-items: stretch;\n  justify-content: center;\n  background-color: var(--sklearn-color-background);\n  position: relative;\n}\n\n#sk-container-id-1 div.sk-parallel-item {\n  display: flex;\n  flex-direction: column;\n}\n\n#sk-container-id-1 div.sk-parallel-item:first-child::after {\n  align-self: flex-end;\n  width: 50%;\n}\n\n#sk-container-id-1 div.sk-parallel-item:last-child::after {\n  align-self: flex-start;\n  width: 50%;\n}\n\n#sk-container-id-1 div.sk-parallel-item:only-child::after {\n  width: 0;\n}\n\n/* Serial-specific style estimator block */\n\n#sk-container-id-1 div.sk-serial {\n  display: flex;\n  flex-direction: column;\n  align-items: center;\n  background-color: var(--sklearn-color-background);\n  padding-right: 1em;\n  padding-left: 1em;\n}\n\n\n/* Toggleable style: style used for estimator/Pipeline/ColumnTransformer box that is\nclickable and can be expanded/collapsed.\n- Pipeline and ColumnTransformer use this feature and define the default style\n- Estimators will overwrite some part of the style using the `sk-estimator` class\n*/\n\n/* Pipeline and ColumnTransformer style (default) */\n\n#sk-container-id-1 div.sk-toggleable {\n  /* Default theme specific background. It is overwritten whether we have a\n  specific estimator or a Pipeline/ColumnTransformer */\n  background-color: var(--sklearn-color-background);\n}\n\n/* Toggleable label */\n#sk-container-id-1 label.sk-toggleable__label {\n  cursor: pointer;\n  display: block;\n  width: 100%;\n  margin-bottom: 0;\n  padding: 0.5em;\n  box-sizing: border-box;\n  text-align: center;\n}\n\n#sk-container-id-1 label.sk-toggleable__label-arrow:before {\n  /* Arrow on the left of the label */\n  content: \"▸\";\n  float: left;\n  margin-right: 0.25em;\n  color: var(--sklearn-color-icon);\n}\n\n#sk-container-id-1 label.sk-toggleable__label-arrow:hover:before {\n  color: var(--sklearn-color-text);\n}\n\n/* Toggleable content - dropdown */\n\n#sk-container-id-1 div.sk-toggleable__content {\n  max-height: 0;\n  max-width: 0;\n  overflow: hidden;\n  text-align: left;\n  /* unfitted */\n  background-color: var(--sklearn-color-unfitted-level-0);\n}\n\n#sk-container-id-1 div.sk-toggleable__content.fitted {\n  /* fitted */\n  background-color: var(--sklearn-color-fitted-level-0);\n}\n\n#sk-container-id-1 div.sk-toggleable__content pre {\n  margin: 0.2em;\n  border-radius: 0.25em;\n  color: var(--sklearn-color-text);\n  /* unfitted */\n  background-color: var(--sklearn-color-unfitted-level-0);\n}\n\n#sk-container-id-1 div.sk-toggleable__content.fitted pre {\n  /* unfitted */\n  background-color: var(--sklearn-color-fitted-level-0);\n}\n\n#sk-container-id-1 input.sk-toggleable__control:checked~div.sk-toggleable__content {\n  /* Expand drop-down */\n  max-height: 200px;\n  max-width: 100%;\n  overflow: auto;\n}\n\n#sk-container-id-1 input.sk-toggleable__control:checked~label.sk-toggleable__label-arrow:before {\n  content: \"▾\";\n}\n\n/* Pipeline/ColumnTransformer-specific style */\n\n#sk-container-id-1 div.sk-label input.sk-toggleable__control:checked~label.sk-toggleable__label {\n  color: var(--sklearn-color-text);\n  background-color: var(--sklearn-color-unfitted-level-2);\n}\n\n#sk-container-id-1 div.sk-label.fitted input.sk-toggleable__control:checked~label.sk-toggleable__label {\n  background-color: var(--sklearn-color-fitted-level-2);\n}\n\n/* Estimator-specific style */\n\n/* Colorize estimator box */\n#sk-container-id-1 div.sk-estimator input.sk-toggleable__control:checked~label.sk-toggleable__label {\n  /* unfitted */\n  background-color: var(--sklearn-color-unfitted-level-2);\n}\n\n#sk-container-id-1 div.sk-estimator.fitted input.sk-toggleable__control:checked~label.sk-toggleable__label {\n  /* fitted */\n  background-color: var(--sklearn-color-fitted-level-2);\n}\n\n#sk-container-id-1 div.sk-label label.sk-toggleable__label,\n#sk-container-id-1 div.sk-label label {\n  /* The background is the default theme color */\n  color: var(--sklearn-color-text-on-default-background);\n}\n\n/* On hover, darken the color of the background */\n#sk-container-id-1 div.sk-label:hover label.sk-toggleable__label {\n  color: var(--sklearn-color-text);\n  background-color: var(--sklearn-color-unfitted-level-2);\n}\n\n/* Label box, darken color on hover, fitted */\n#sk-container-id-1 div.sk-label.fitted:hover label.sk-toggleable__label.fitted {\n  color: var(--sklearn-color-text);\n  background-color: var(--sklearn-color-fitted-level-2);\n}\n\n/* Estimator label */\n\n#sk-container-id-1 div.sk-label label {\n  font-family: monospace;\n  font-weight: bold;\n  display: inline-block;\n  line-height: 1.2em;\n}\n\n#sk-container-id-1 div.sk-label-container {\n  text-align: center;\n}\n\n/* Estimator-specific */\n#sk-container-id-1 div.sk-estimator {\n  font-family: monospace;\n  border: 1px dotted var(--sklearn-color-border-box);\n  border-radius: 0.25em;\n  box-sizing: border-box;\n  margin-bottom: 0.5em;\n  /* unfitted */\n  background-color: var(--sklearn-color-unfitted-level-0);\n}\n\n#sk-container-id-1 div.sk-estimator.fitted {\n  /* fitted */\n  background-color: var(--sklearn-color-fitted-level-0);\n}\n\n/* on hover */\n#sk-container-id-1 div.sk-estimator:hover {\n  /* unfitted */\n  background-color: var(--sklearn-color-unfitted-level-2);\n}\n\n#sk-container-id-1 div.sk-estimator.fitted:hover {\n  /* fitted */\n  background-color: var(--sklearn-color-fitted-level-2);\n}\n\n/* Specification for estimator info (e.g. \"i\" and \"?\") */\n\n/* Common style for \"i\" and \"?\" */\n\n.sk-estimator-doc-link,\na:link.sk-estimator-doc-link,\na:visited.sk-estimator-doc-link {\n  float: right;\n  font-size: smaller;\n  line-height: 1em;\n  font-family: monospace;\n  background-color: var(--sklearn-color-background);\n  border-radius: 1em;\n  height: 1em;\n  width: 1em;\n  text-decoration: none !important;\n  margin-left: 1ex;\n  /* unfitted */\n  border: var(--sklearn-color-unfitted-level-1) 1pt solid;\n  color: var(--sklearn-color-unfitted-level-1);\n}\n\n.sk-estimator-doc-link.fitted,\na:link.sk-estimator-doc-link.fitted,\na:visited.sk-estimator-doc-link.fitted {\n  /* fitted */\n  border: var(--sklearn-color-fitted-level-1) 1pt solid;\n  color: var(--sklearn-color-fitted-level-1);\n}\n\n/* On hover */\ndiv.sk-estimator:hover .sk-estimator-doc-link:hover,\n.sk-estimator-doc-link:hover,\ndiv.sk-label-container:hover .sk-estimator-doc-link:hover,\n.sk-estimator-doc-link:hover {\n  /* unfitted */\n  background-color: var(--sklearn-color-unfitted-level-3);\n  color: var(--sklearn-color-background);\n  text-decoration: none;\n}\n\ndiv.sk-estimator.fitted:hover .sk-estimator-doc-link.fitted:hover,\n.sk-estimator-doc-link.fitted:hover,\ndiv.sk-label-container:hover .sk-estimator-doc-link.fitted:hover,\n.sk-estimator-doc-link.fitted:hover {\n  /* fitted */\n  background-color: var(--sklearn-color-fitted-level-3);\n  color: var(--sklearn-color-background);\n  text-decoration: none;\n}\n\n/* Span, style for the box shown on hovering the info icon */\n.sk-estimator-doc-link span {\n  display: none;\n  z-index: 9999;\n  position: relative;\n  font-weight: normal;\n  right: .2ex;\n  padding: .5ex;\n  margin: .5ex;\n  width: min-content;\n  min-width: 20ex;\n  max-width: 50ex;\n  color: var(--sklearn-color-text);\n  box-shadow: 2pt 2pt 4pt #999;\n  /* unfitted */\n  background: var(--sklearn-color-unfitted-level-0);\n  border: .5pt solid var(--sklearn-color-unfitted-level-3);\n}\n\n.sk-estimator-doc-link.fitted span {\n  /* fitted */\n  background: var(--sklearn-color-fitted-level-0);\n  border: var(--sklearn-color-fitted-level-3);\n}\n\n.sk-estimator-doc-link:hover span {\n  display: block;\n}\n\n/* \"?\"-specific style due to the `<a>` HTML tag */\n\n#sk-container-id-1 a.estimator_doc_link {\n  float: right;\n  font-size: 1rem;\n  line-height: 1em;\n  font-family: monospace;\n  background-color: var(--sklearn-color-background);\n  border-radius: 1rem;\n  height: 1rem;\n  width: 1rem;\n  text-decoration: none;\n  /* unfitted */\n  color: var(--sklearn-color-unfitted-level-1);\n  border: var(--sklearn-color-unfitted-level-1) 1pt solid;\n}\n\n#sk-container-id-1 a.estimator_doc_link.fitted {\n  /* fitted */\n  border: var(--sklearn-color-fitted-level-1) 1pt solid;\n  color: var(--sklearn-color-fitted-level-1);\n}\n\n/* On hover */\n#sk-container-id-1 a.estimator_doc_link:hover {\n  /* unfitted */\n  background-color: var(--sklearn-color-unfitted-level-3);\n  color: var(--sklearn-color-background);\n  text-decoration: none;\n}\n\n#sk-container-id-1 a.estimator_doc_link.fitted:hover {\n  /* fitted */\n  background-color: var(--sklearn-color-fitted-level-3);\n}\n</style><div id=\"sk-container-id-1\" class=\"sk-top-container\"><div class=\"sk-text-repr-fallback\"><pre>SVC(kernel=&#x27;linear&#x27;, random_state=42)</pre><b>In a Jupyter environment, please rerun this cell to show the HTML representation or trust the notebook. <br />On GitHub, the HTML representation is unable to render, please try loading this page with nbviewer.org.</b></div><div class=\"sk-container\" hidden><div class=\"sk-item\"><div class=\"sk-estimator fitted sk-toggleable\"><input class=\"sk-toggleable__control sk-hidden--visually\" id=\"sk-estimator-id-1\" type=\"checkbox\" checked><label for=\"sk-estimator-id-1\" class=\"sk-toggleable__label fitted sk-toggleable__label-arrow fitted\">&nbsp;&nbsp;SVC<a class=\"sk-estimator-doc-link fitted\" rel=\"noreferrer\" target=\"_blank\" href=\"https://scikit-learn.org/1.4/modules/generated/sklearn.svm.SVC.html\">?<span>Documentation for SVC</span></a><span class=\"sk-estimator-doc-link fitted\">i<span>Fitted</span></span></label><div class=\"sk-toggleable__content fitted\"><pre>SVC(kernel=&#x27;linear&#x27;, random_state=42)</pre></div> </div></div></div></div>"
     },
     "execution_count": 10,
     "metadata": {},
     "output_type": "execute_result"
    }
   ],
   "source": [
    "# basic SVM \n",
    "lin_model = SVC(kernel='linear', random_state=42)\n",
    "lin_model.fit(X_train, y_train)"
   ],
   "metadata": {
    "collapsed": false,
    "ExecuteTime": {
     "end_time": "2024-04-15T01:47:24.568441Z",
     "start_time": "2024-04-15T01:47:17.089299Z"
    }
   },
   "id": "d56971543e26cd13"
  },
  {
   "cell_type": "code",
   "execution_count": 11,
   "outputs": [
    {
     "name": "stdout",
     "output_type": "stream",
     "text": [
      "[[184  26]\n",
      " [ 38 203]]\n",
      "              precision    recall  f1-score   support\n",
      "\n",
      "          -2       0.83      0.88      0.85       210\n",
      "          -1       0.89      0.84      0.86       241\n",
      "\n",
      "    accuracy                           0.86       451\n",
      "   macro avg       0.86      0.86      0.86       451\n",
      "weighted avg       0.86      0.86      0.86       451\n"
     ]
    }
   ],
   "source": [
    "y_pred = lin_model.predict(X_test)\n",
    "print(confusion_matrix(y_test, y_pred))\n",
    "print(classification_report(y_test, y_pred))"
   ],
   "metadata": {
    "collapsed": false,
    "ExecuteTime": {
     "end_time": "2024-04-15T01:47:24.607603Z",
     "start_time": "2024-04-15T01:47:24.571763Z"
    }
   },
   "id": "6b78482eed544b27"
  },
  {
   "cell_type": "code",
   "execution_count": 12,
   "outputs": [
    {
     "data": {
      "text/plain": "SVC(kernel='poly', random_state=42)",
      "text/html": "<style>#sk-container-id-2 {\n  /* Definition of color scheme common for light and dark mode */\n  --sklearn-color-text: black;\n  --sklearn-color-line: gray;\n  /* Definition of color scheme for unfitted estimators */\n  --sklearn-color-unfitted-level-0: #fff5e6;\n  --sklearn-color-unfitted-level-1: #f6e4d2;\n  --sklearn-color-unfitted-level-2: #ffe0b3;\n  --sklearn-color-unfitted-level-3: chocolate;\n  /* Definition of color scheme for fitted estimators */\n  --sklearn-color-fitted-level-0: #f0f8ff;\n  --sklearn-color-fitted-level-1: #d4ebff;\n  --sklearn-color-fitted-level-2: #b3dbfd;\n  --sklearn-color-fitted-level-3: cornflowerblue;\n\n  /* Specific color for light theme */\n  --sklearn-color-text-on-default-background: var(--sg-text-color, var(--theme-code-foreground, var(--jp-content-font-color1, black)));\n  --sklearn-color-background: var(--sg-background-color, var(--theme-background, var(--jp-layout-color0, white)));\n  --sklearn-color-border-box: var(--sg-text-color, var(--theme-code-foreground, var(--jp-content-font-color1, black)));\n  --sklearn-color-icon: #696969;\n\n  @media (prefers-color-scheme: dark) {\n    /* Redefinition of color scheme for dark theme */\n    --sklearn-color-text-on-default-background: var(--sg-text-color, var(--theme-code-foreground, var(--jp-content-font-color1, white)));\n    --sklearn-color-background: var(--sg-background-color, var(--theme-background, var(--jp-layout-color0, #111)));\n    --sklearn-color-border-box: var(--sg-text-color, var(--theme-code-foreground, var(--jp-content-font-color1, white)));\n    --sklearn-color-icon: #878787;\n  }\n}\n\n#sk-container-id-2 {\n  color: var(--sklearn-color-text);\n}\n\n#sk-container-id-2 pre {\n  padding: 0;\n}\n\n#sk-container-id-2 input.sk-hidden--visually {\n  border: 0;\n  clip: rect(1px 1px 1px 1px);\n  clip: rect(1px, 1px, 1px, 1px);\n  height: 1px;\n  margin: -1px;\n  overflow: hidden;\n  padding: 0;\n  position: absolute;\n  width: 1px;\n}\n\n#sk-container-id-2 div.sk-dashed-wrapped {\n  border: 1px dashed var(--sklearn-color-line);\n  margin: 0 0.4em 0.5em 0.4em;\n  box-sizing: border-box;\n  padding-bottom: 0.4em;\n  background-color: var(--sklearn-color-background);\n}\n\n#sk-container-id-2 div.sk-container {\n  /* jupyter's `normalize.less` sets `[hidden] { display: none; }`\n     but bootstrap.min.css set `[hidden] { display: none !important; }`\n     so we also need the `!important` here to be able to override the\n     default hidden behavior on the sphinx rendered scikit-learn.org.\n     See: https://github.com/scikit-learn/scikit-learn/issues/21755 */\n  display: inline-block !important;\n  position: relative;\n}\n\n#sk-container-id-2 div.sk-text-repr-fallback {\n  display: none;\n}\n\ndiv.sk-parallel-item,\ndiv.sk-serial,\ndiv.sk-item {\n  /* draw centered vertical line to link estimators */\n  background-image: linear-gradient(var(--sklearn-color-text-on-default-background), var(--sklearn-color-text-on-default-background));\n  background-size: 2px 100%;\n  background-repeat: no-repeat;\n  background-position: center center;\n}\n\n/* Parallel-specific style estimator block */\n\n#sk-container-id-2 div.sk-parallel-item::after {\n  content: \"\";\n  width: 100%;\n  border-bottom: 2px solid var(--sklearn-color-text-on-default-background);\n  flex-grow: 1;\n}\n\n#sk-container-id-2 div.sk-parallel {\n  display: flex;\n  align-items: stretch;\n  justify-content: center;\n  background-color: var(--sklearn-color-background);\n  position: relative;\n}\n\n#sk-container-id-2 div.sk-parallel-item {\n  display: flex;\n  flex-direction: column;\n}\n\n#sk-container-id-2 div.sk-parallel-item:first-child::after {\n  align-self: flex-end;\n  width: 50%;\n}\n\n#sk-container-id-2 div.sk-parallel-item:last-child::after {\n  align-self: flex-start;\n  width: 50%;\n}\n\n#sk-container-id-2 div.sk-parallel-item:only-child::after {\n  width: 0;\n}\n\n/* Serial-specific style estimator block */\n\n#sk-container-id-2 div.sk-serial {\n  display: flex;\n  flex-direction: column;\n  align-items: center;\n  background-color: var(--sklearn-color-background);\n  padding-right: 1em;\n  padding-left: 1em;\n}\n\n\n/* Toggleable style: style used for estimator/Pipeline/ColumnTransformer box that is\nclickable and can be expanded/collapsed.\n- Pipeline and ColumnTransformer use this feature and define the default style\n- Estimators will overwrite some part of the style using the `sk-estimator` class\n*/\n\n/* Pipeline and ColumnTransformer style (default) */\n\n#sk-container-id-2 div.sk-toggleable {\n  /* Default theme specific background. It is overwritten whether we have a\n  specific estimator or a Pipeline/ColumnTransformer */\n  background-color: var(--sklearn-color-background);\n}\n\n/* Toggleable label */\n#sk-container-id-2 label.sk-toggleable__label {\n  cursor: pointer;\n  display: block;\n  width: 100%;\n  margin-bottom: 0;\n  padding: 0.5em;\n  box-sizing: border-box;\n  text-align: center;\n}\n\n#sk-container-id-2 label.sk-toggleable__label-arrow:before {\n  /* Arrow on the left of the label */\n  content: \"▸\";\n  float: left;\n  margin-right: 0.25em;\n  color: var(--sklearn-color-icon);\n}\n\n#sk-container-id-2 label.sk-toggleable__label-arrow:hover:before {\n  color: var(--sklearn-color-text);\n}\n\n/* Toggleable content - dropdown */\n\n#sk-container-id-2 div.sk-toggleable__content {\n  max-height: 0;\n  max-width: 0;\n  overflow: hidden;\n  text-align: left;\n  /* unfitted */\n  background-color: var(--sklearn-color-unfitted-level-0);\n}\n\n#sk-container-id-2 div.sk-toggleable__content.fitted {\n  /* fitted */\n  background-color: var(--sklearn-color-fitted-level-0);\n}\n\n#sk-container-id-2 div.sk-toggleable__content pre {\n  margin: 0.2em;\n  border-radius: 0.25em;\n  color: var(--sklearn-color-text);\n  /* unfitted */\n  background-color: var(--sklearn-color-unfitted-level-0);\n}\n\n#sk-container-id-2 div.sk-toggleable__content.fitted pre {\n  /* unfitted */\n  background-color: var(--sklearn-color-fitted-level-0);\n}\n\n#sk-container-id-2 input.sk-toggleable__control:checked~div.sk-toggleable__content {\n  /* Expand drop-down */\n  max-height: 200px;\n  max-width: 100%;\n  overflow: auto;\n}\n\n#sk-container-id-2 input.sk-toggleable__control:checked~label.sk-toggleable__label-arrow:before {\n  content: \"▾\";\n}\n\n/* Pipeline/ColumnTransformer-specific style */\n\n#sk-container-id-2 div.sk-label input.sk-toggleable__control:checked~label.sk-toggleable__label {\n  color: var(--sklearn-color-text);\n  background-color: var(--sklearn-color-unfitted-level-2);\n}\n\n#sk-container-id-2 div.sk-label.fitted input.sk-toggleable__control:checked~label.sk-toggleable__label {\n  background-color: var(--sklearn-color-fitted-level-2);\n}\n\n/* Estimator-specific style */\n\n/* Colorize estimator box */\n#sk-container-id-2 div.sk-estimator input.sk-toggleable__control:checked~label.sk-toggleable__label {\n  /* unfitted */\n  background-color: var(--sklearn-color-unfitted-level-2);\n}\n\n#sk-container-id-2 div.sk-estimator.fitted input.sk-toggleable__control:checked~label.sk-toggleable__label {\n  /* fitted */\n  background-color: var(--sklearn-color-fitted-level-2);\n}\n\n#sk-container-id-2 div.sk-label label.sk-toggleable__label,\n#sk-container-id-2 div.sk-label label {\n  /* The background is the default theme color */\n  color: var(--sklearn-color-text-on-default-background);\n}\n\n/* On hover, darken the color of the background */\n#sk-container-id-2 div.sk-label:hover label.sk-toggleable__label {\n  color: var(--sklearn-color-text);\n  background-color: var(--sklearn-color-unfitted-level-2);\n}\n\n/* Label box, darken color on hover, fitted */\n#sk-container-id-2 div.sk-label.fitted:hover label.sk-toggleable__label.fitted {\n  color: var(--sklearn-color-text);\n  background-color: var(--sklearn-color-fitted-level-2);\n}\n\n/* Estimator label */\n\n#sk-container-id-2 div.sk-label label {\n  font-family: monospace;\n  font-weight: bold;\n  display: inline-block;\n  line-height: 1.2em;\n}\n\n#sk-container-id-2 div.sk-label-container {\n  text-align: center;\n}\n\n/* Estimator-specific */\n#sk-container-id-2 div.sk-estimator {\n  font-family: monospace;\n  border: 1px dotted var(--sklearn-color-border-box);\n  border-radius: 0.25em;\n  box-sizing: border-box;\n  margin-bottom: 0.5em;\n  /* unfitted */\n  background-color: var(--sklearn-color-unfitted-level-0);\n}\n\n#sk-container-id-2 div.sk-estimator.fitted {\n  /* fitted */\n  background-color: var(--sklearn-color-fitted-level-0);\n}\n\n/* on hover */\n#sk-container-id-2 div.sk-estimator:hover {\n  /* unfitted */\n  background-color: var(--sklearn-color-unfitted-level-2);\n}\n\n#sk-container-id-2 div.sk-estimator.fitted:hover {\n  /* fitted */\n  background-color: var(--sklearn-color-fitted-level-2);\n}\n\n/* Specification for estimator info (e.g. \"i\" and \"?\") */\n\n/* Common style for \"i\" and \"?\" */\n\n.sk-estimator-doc-link,\na:link.sk-estimator-doc-link,\na:visited.sk-estimator-doc-link {\n  float: right;\n  font-size: smaller;\n  line-height: 1em;\n  font-family: monospace;\n  background-color: var(--sklearn-color-background);\n  border-radius: 1em;\n  height: 1em;\n  width: 1em;\n  text-decoration: none !important;\n  margin-left: 1ex;\n  /* unfitted */\n  border: var(--sklearn-color-unfitted-level-1) 1pt solid;\n  color: var(--sklearn-color-unfitted-level-1);\n}\n\n.sk-estimator-doc-link.fitted,\na:link.sk-estimator-doc-link.fitted,\na:visited.sk-estimator-doc-link.fitted {\n  /* fitted */\n  border: var(--sklearn-color-fitted-level-1) 1pt solid;\n  color: var(--sklearn-color-fitted-level-1);\n}\n\n/* On hover */\ndiv.sk-estimator:hover .sk-estimator-doc-link:hover,\n.sk-estimator-doc-link:hover,\ndiv.sk-label-container:hover .sk-estimator-doc-link:hover,\n.sk-estimator-doc-link:hover {\n  /* unfitted */\n  background-color: var(--sklearn-color-unfitted-level-3);\n  color: var(--sklearn-color-background);\n  text-decoration: none;\n}\n\ndiv.sk-estimator.fitted:hover .sk-estimator-doc-link.fitted:hover,\n.sk-estimator-doc-link.fitted:hover,\ndiv.sk-label-container:hover .sk-estimator-doc-link.fitted:hover,\n.sk-estimator-doc-link.fitted:hover {\n  /* fitted */\n  background-color: var(--sklearn-color-fitted-level-3);\n  color: var(--sklearn-color-background);\n  text-decoration: none;\n}\n\n/* Span, style for the box shown on hovering the info icon */\n.sk-estimator-doc-link span {\n  display: none;\n  z-index: 9999;\n  position: relative;\n  font-weight: normal;\n  right: .2ex;\n  padding: .5ex;\n  margin: .5ex;\n  width: min-content;\n  min-width: 20ex;\n  max-width: 50ex;\n  color: var(--sklearn-color-text);\n  box-shadow: 2pt 2pt 4pt #999;\n  /* unfitted */\n  background: var(--sklearn-color-unfitted-level-0);\n  border: .5pt solid var(--sklearn-color-unfitted-level-3);\n}\n\n.sk-estimator-doc-link.fitted span {\n  /* fitted */\n  background: var(--sklearn-color-fitted-level-0);\n  border: var(--sklearn-color-fitted-level-3);\n}\n\n.sk-estimator-doc-link:hover span {\n  display: block;\n}\n\n/* \"?\"-specific style due to the `<a>` HTML tag */\n\n#sk-container-id-2 a.estimator_doc_link {\n  float: right;\n  font-size: 1rem;\n  line-height: 1em;\n  font-family: monospace;\n  background-color: var(--sklearn-color-background);\n  border-radius: 1rem;\n  height: 1rem;\n  width: 1rem;\n  text-decoration: none;\n  /* unfitted */\n  color: var(--sklearn-color-unfitted-level-1);\n  border: var(--sklearn-color-unfitted-level-1) 1pt solid;\n}\n\n#sk-container-id-2 a.estimator_doc_link.fitted {\n  /* fitted */\n  border: var(--sklearn-color-fitted-level-1) 1pt solid;\n  color: var(--sklearn-color-fitted-level-1);\n}\n\n/* On hover */\n#sk-container-id-2 a.estimator_doc_link:hover {\n  /* unfitted */\n  background-color: var(--sklearn-color-unfitted-level-3);\n  color: var(--sklearn-color-background);\n  text-decoration: none;\n}\n\n#sk-container-id-2 a.estimator_doc_link.fitted:hover {\n  /* fitted */\n  background-color: var(--sklearn-color-fitted-level-3);\n}\n</style><div id=\"sk-container-id-2\" class=\"sk-top-container\"><div class=\"sk-text-repr-fallback\"><pre>SVC(kernel=&#x27;poly&#x27;, random_state=42)</pre><b>In a Jupyter environment, please rerun this cell to show the HTML representation or trust the notebook. <br />On GitHub, the HTML representation is unable to render, please try loading this page with nbviewer.org.</b></div><div class=\"sk-container\" hidden><div class=\"sk-item\"><div class=\"sk-estimator fitted sk-toggleable\"><input class=\"sk-toggleable__control sk-hidden--visually\" id=\"sk-estimator-id-2\" type=\"checkbox\" checked><label for=\"sk-estimator-id-2\" class=\"sk-toggleable__label fitted sk-toggleable__label-arrow fitted\">&nbsp;&nbsp;SVC<a class=\"sk-estimator-doc-link fitted\" rel=\"noreferrer\" target=\"_blank\" href=\"https://scikit-learn.org/1.4/modules/generated/sklearn.svm.SVC.html\">?<span>Documentation for SVC</span></a><span class=\"sk-estimator-doc-link fitted\">i<span>Fitted</span></span></label><div class=\"sk-toggleable__content fitted\"><pre>SVC(kernel=&#x27;poly&#x27;, random_state=42)</pre></div> </div></div></div></div>"
     },
     "execution_count": 12,
     "metadata": {},
     "output_type": "execute_result"
    }
   ],
   "source": [
    "poly_svm = SVC(kernel='poly', random_state=42)\n",
    "poly_svm.fit(X_train, y_train)"
   ],
   "metadata": {
    "collapsed": false,
    "ExecuteTime": {
     "end_time": "2024-04-15T01:47:24.666335Z",
     "start_time": "2024-04-15T01:47:24.601428Z"
    }
   },
   "id": "4af74d44964756d"
  },
  {
   "cell_type": "code",
   "execution_count": 13,
   "outputs": [
    {
     "name": "stdout",
     "output_type": "stream",
     "text": [
      "[[142  68]\n",
      " [  8 233]]\n",
      "              precision    recall  f1-score   support\n",
      "\n",
      "          -2       0.95      0.68      0.79       210\n",
      "          -1       0.77      0.97      0.86       241\n",
      "\n",
      "    accuracy                           0.83       451\n",
      "   macro avg       0.86      0.82      0.82       451\n",
      "weighted avg       0.85      0.83      0.83       451\n"
     ]
    }
   ],
   "source": [
    "y_pred = poly_svm.predict(X_test)\n",
    "print(confusion_matrix(y_test, y_pred))\n",
    "print(classification_report(y_test, y_pred))"
   ],
   "metadata": {
    "collapsed": false,
    "ExecuteTime": {
     "end_time": "2024-04-15T01:47:26.775552Z",
     "start_time": "2024-04-15T01:47:26.722653Z"
    }
   },
   "id": "343fb22f052011c8"
  },
  {
   "cell_type": "code",
   "execution_count": 14,
   "outputs": [
    {
     "data": {
      "text/plain": "SVC(random_state=42)",
      "text/html": "<style>#sk-container-id-3 {\n  /* Definition of color scheme common for light and dark mode */\n  --sklearn-color-text: black;\n  --sklearn-color-line: gray;\n  /* Definition of color scheme for unfitted estimators */\n  --sklearn-color-unfitted-level-0: #fff5e6;\n  --sklearn-color-unfitted-level-1: #f6e4d2;\n  --sklearn-color-unfitted-level-2: #ffe0b3;\n  --sklearn-color-unfitted-level-3: chocolate;\n  /* Definition of color scheme for fitted estimators */\n  --sklearn-color-fitted-level-0: #f0f8ff;\n  --sklearn-color-fitted-level-1: #d4ebff;\n  --sklearn-color-fitted-level-2: #b3dbfd;\n  --sklearn-color-fitted-level-3: cornflowerblue;\n\n  /* Specific color for light theme */\n  --sklearn-color-text-on-default-background: var(--sg-text-color, var(--theme-code-foreground, var(--jp-content-font-color1, black)));\n  --sklearn-color-background: var(--sg-background-color, var(--theme-background, var(--jp-layout-color0, white)));\n  --sklearn-color-border-box: var(--sg-text-color, var(--theme-code-foreground, var(--jp-content-font-color1, black)));\n  --sklearn-color-icon: #696969;\n\n  @media (prefers-color-scheme: dark) {\n    /* Redefinition of color scheme for dark theme */\n    --sklearn-color-text-on-default-background: var(--sg-text-color, var(--theme-code-foreground, var(--jp-content-font-color1, white)));\n    --sklearn-color-background: var(--sg-background-color, var(--theme-background, var(--jp-layout-color0, #111)));\n    --sklearn-color-border-box: var(--sg-text-color, var(--theme-code-foreground, var(--jp-content-font-color1, white)));\n    --sklearn-color-icon: #878787;\n  }\n}\n\n#sk-container-id-3 {\n  color: var(--sklearn-color-text);\n}\n\n#sk-container-id-3 pre {\n  padding: 0;\n}\n\n#sk-container-id-3 input.sk-hidden--visually {\n  border: 0;\n  clip: rect(1px 1px 1px 1px);\n  clip: rect(1px, 1px, 1px, 1px);\n  height: 1px;\n  margin: -1px;\n  overflow: hidden;\n  padding: 0;\n  position: absolute;\n  width: 1px;\n}\n\n#sk-container-id-3 div.sk-dashed-wrapped {\n  border: 1px dashed var(--sklearn-color-line);\n  margin: 0 0.4em 0.5em 0.4em;\n  box-sizing: border-box;\n  padding-bottom: 0.4em;\n  background-color: var(--sklearn-color-background);\n}\n\n#sk-container-id-3 div.sk-container {\n  /* jupyter's `normalize.less` sets `[hidden] { display: none; }`\n     but bootstrap.min.css set `[hidden] { display: none !important; }`\n     so we also need the `!important` here to be able to override the\n     default hidden behavior on the sphinx rendered scikit-learn.org.\n     See: https://github.com/scikit-learn/scikit-learn/issues/21755 */\n  display: inline-block !important;\n  position: relative;\n}\n\n#sk-container-id-3 div.sk-text-repr-fallback {\n  display: none;\n}\n\ndiv.sk-parallel-item,\ndiv.sk-serial,\ndiv.sk-item {\n  /* draw centered vertical line to link estimators */\n  background-image: linear-gradient(var(--sklearn-color-text-on-default-background), var(--sklearn-color-text-on-default-background));\n  background-size: 2px 100%;\n  background-repeat: no-repeat;\n  background-position: center center;\n}\n\n/* Parallel-specific style estimator block */\n\n#sk-container-id-3 div.sk-parallel-item::after {\n  content: \"\";\n  width: 100%;\n  border-bottom: 2px solid var(--sklearn-color-text-on-default-background);\n  flex-grow: 1;\n}\n\n#sk-container-id-3 div.sk-parallel {\n  display: flex;\n  align-items: stretch;\n  justify-content: center;\n  background-color: var(--sklearn-color-background);\n  position: relative;\n}\n\n#sk-container-id-3 div.sk-parallel-item {\n  display: flex;\n  flex-direction: column;\n}\n\n#sk-container-id-3 div.sk-parallel-item:first-child::after {\n  align-self: flex-end;\n  width: 50%;\n}\n\n#sk-container-id-3 div.sk-parallel-item:last-child::after {\n  align-self: flex-start;\n  width: 50%;\n}\n\n#sk-container-id-3 div.sk-parallel-item:only-child::after {\n  width: 0;\n}\n\n/* Serial-specific style estimator block */\n\n#sk-container-id-3 div.sk-serial {\n  display: flex;\n  flex-direction: column;\n  align-items: center;\n  background-color: var(--sklearn-color-background);\n  padding-right: 1em;\n  padding-left: 1em;\n}\n\n\n/* Toggleable style: style used for estimator/Pipeline/ColumnTransformer box that is\nclickable and can be expanded/collapsed.\n- Pipeline and ColumnTransformer use this feature and define the default style\n- Estimators will overwrite some part of the style using the `sk-estimator` class\n*/\n\n/* Pipeline and ColumnTransformer style (default) */\n\n#sk-container-id-3 div.sk-toggleable {\n  /* Default theme specific background. It is overwritten whether we have a\n  specific estimator or a Pipeline/ColumnTransformer */\n  background-color: var(--sklearn-color-background);\n}\n\n/* Toggleable label */\n#sk-container-id-3 label.sk-toggleable__label {\n  cursor: pointer;\n  display: block;\n  width: 100%;\n  margin-bottom: 0;\n  padding: 0.5em;\n  box-sizing: border-box;\n  text-align: center;\n}\n\n#sk-container-id-3 label.sk-toggleable__label-arrow:before {\n  /* Arrow on the left of the label */\n  content: \"▸\";\n  float: left;\n  margin-right: 0.25em;\n  color: var(--sklearn-color-icon);\n}\n\n#sk-container-id-3 label.sk-toggleable__label-arrow:hover:before {\n  color: var(--sklearn-color-text);\n}\n\n/* Toggleable content - dropdown */\n\n#sk-container-id-3 div.sk-toggleable__content {\n  max-height: 0;\n  max-width: 0;\n  overflow: hidden;\n  text-align: left;\n  /* unfitted */\n  background-color: var(--sklearn-color-unfitted-level-0);\n}\n\n#sk-container-id-3 div.sk-toggleable__content.fitted {\n  /* fitted */\n  background-color: var(--sklearn-color-fitted-level-0);\n}\n\n#sk-container-id-3 div.sk-toggleable__content pre {\n  margin: 0.2em;\n  border-radius: 0.25em;\n  color: var(--sklearn-color-text);\n  /* unfitted */\n  background-color: var(--sklearn-color-unfitted-level-0);\n}\n\n#sk-container-id-3 div.sk-toggleable__content.fitted pre {\n  /* unfitted */\n  background-color: var(--sklearn-color-fitted-level-0);\n}\n\n#sk-container-id-3 input.sk-toggleable__control:checked~div.sk-toggleable__content {\n  /* Expand drop-down */\n  max-height: 200px;\n  max-width: 100%;\n  overflow: auto;\n}\n\n#sk-container-id-3 input.sk-toggleable__control:checked~label.sk-toggleable__label-arrow:before {\n  content: \"▾\";\n}\n\n/* Pipeline/ColumnTransformer-specific style */\n\n#sk-container-id-3 div.sk-label input.sk-toggleable__control:checked~label.sk-toggleable__label {\n  color: var(--sklearn-color-text);\n  background-color: var(--sklearn-color-unfitted-level-2);\n}\n\n#sk-container-id-3 div.sk-label.fitted input.sk-toggleable__control:checked~label.sk-toggleable__label {\n  background-color: var(--sklearn-color-fitted-level-2);\n}\n\n/* Estimator-specific style */\n\n/* Colorize estimator box */\n#sk-container-id-3 div.sk-estimator input.sk-toggleable__control:checked~label.sk-toggleable__label {\n  /* unfitted */\n  background-color: var(--sklearn-color-unfitted-level-2);\n}\n\n#sk-container-id-3 div.sk-estimator.fitted input.sk-toggleable__control:checked~label.sk-toggleable__label {\n  /* fitted */\n  background-color: var(--sklearn-color-fitted-level-2);\n}\n\n#sk-container-id-3 div.sk-label label.sk-toggleable__label,\n#sk-container-id-3 div.sk-label label {\n  /* The background is the default theme color */\n  color: var(--sklearn-color-text-on-default-background);\n}\n\n/* On hover, darken the color of the background */\n#sk-container-id-3 div.sk-label:hover label.sk-toggleable__label {\n  color: var(--sklearn-color-text);\n  background-color: var(--sklearn-color-unfitted-level-2);\n}\n\n/* Label box, darken color on hover, fitted */\n#sk-container-id-3 div.sk-label.fitted:hover label.sk-toggleable__label.fitted {\n  color: var(--sklearn-color-text);\n  background-color: var(--sklearn-color-fitted-level-2);\n}\n\n/* Estimator label */\n\n#sk-container-id-3 div.sk-label label {\n  font-family: monospace;\n  font-weight: bold;\n  display: inline-block;\n  line-height: 1.2em;\n}\n\n#sk-container-id-3 div.sk-label-container {\n  text-align: center;\n}\n\n/* Estimator-specific */\n#sk-container-id-3 div.sk-estimator {\n  font-family: monospace;\n  border: 1px dotted var(--sklearn-color-border-box);\n  border-radius: 0.25em;\n  box-sizing: border-box;\n  margin-bottom: 0.5em;\n  /* unfitted */\n  background-color: var(--sklearn-color-unfitted-level-0);\n}\n\n#sk-container-id-3 div.sk-estimator.fitted {\n  /* fitted */\n  background-color: var(--sklearn-color-fitted-level-0);\n}\n\n/* on hover */\n#sk-container-id-3 div.sk-estimator:hover {\n  /* unfitted */\n  background-color: var(--sklearn-color-unfitted-level-2);\n}\n\n#sk-container-id-3 div.sk-estimator.fitted:hover {\n  /* fitted */\n  background-color: var(--sklearn-color-fitted-level-2);\n}\n\n/* Specification for estimator info (e.g. \"i\" and \"?\") */\n\n/* Common style for \"i\" and \"?\" */\n\n.sk-estimator-doc-link,\na:link.sk-estimator-doc-link,\na:visited.sk-estimator-doc-link {\n  float: right;\n  font-size: smaller;\n  line-height: 1em;\n  font-family: monospace;\n  background-color: var(--sklearn-color-background);\n  border-radius: 1em;\n  height: 1em;\n  width: 1em;\n  text-decoration: none !important;\n  margin-left: 1ex;\n  /* unfitted */\n  border: var(--sklearn-color-unfitted-level-1) 1pt solid;\n  color: var(--sklearn-color-unfitted-level-1);\n}\n\n.sk-estimator-doc-link.fitted,\na:link.sk-estimator-doc-link.fitted,\na:visited.sk-estimator-doc-link.fitted {\n  /* fitted */\n  border: var(--sklearn-color-fitted-level-1) 1pt solid;\n  color: var(--sklearn-color-fitted-level-1);\n}\n\n/* On hover */\ndiv.sk-estimator:hover .sk-estimator-doc-link:hover,\n.sk-estimator-doc-link:hover,\ndiv.sk-label-container:hover .sk-estimator-doc-link:hover,\n.sk-estimator-doc-link:hover {\n  /* unfitted */\n  background-color: var(--sklearn-color-unfitted-level-3);\n  color: var(--sklearn-color-background);\n  text-decoration: none;\n}\n\ndiv.sk-estimator.fitted:hover .sk-estimator-doc-link.fitted:hover,\n.sk-estimator-doc-link.fitted:hover,\ndiv.sk-label-container:hover .sk-estimator-doc-link.fitted:hover,\n.sk-estimator-doc-link.fitted:hover {\n  /* fitted */\n  background-color: var(--sklearn-color-fitted-level-3);\n  color: var(--sklearn-color-background);\n  text-decoration: none;\n}\n\n/* Span, style for the box shown on hovering the info icon */\n.sk-estimator-doc-link span {\n  display: none;\n  z-index: 9999;\n  position: relative;\n  font-weight: normal;\n  right: .2ex;\n  padding: .5ex;\n  margin: .5ex;\n  width: min-content;\n  min-width: 20ex;\n  max-width: 50ex;\n  color: var(--sklearn-color-text);\n  box-shadow: 2pt 2pt 4pt #999;\n  /* unfitted */\n  background: var(--sklearn-color-unfitted-level-0);\n  border: .5pt solid var(--sklearn-color-unfitted-level-3);\n}\n\n.sk-estimator-doc-link.fitted span {\n  /* fitted */\n  background: var(--sklearn-color-fitted-level-0);\n  border: var(--sklearn-color-fitted-level-3);\n}\n\n.sk-estimator-doc-link:hover span {\n  display: block;\n}\n\n/* \"?\"-specific style due to the `<a>` HTML tag */\n\n#sk-container-id-3 a.estimator_doc_link {\n  float: right;\n  font-size: 1rem;\n  line-height: 1em;\n  font-family: monospace;\n  background-color: var(--sklearn-color-background);\n  border-radius: 1rem;\n  height: 1rem;\n  width: 1rem;\n  text-decoration: none;\n  /* unfitted */\n  color: var(--sklearn-color-unfitted-level-1);\n  border: var(--sklearn-color-unfitted-level-1) 1pt solid;\n}\n\n#sk-container-id-3 a.estimator_doc_link.fitted {\n  /* fitted */\n  border: var(--sklearn-color-fitted-level-1) 1pt solid;\n  color: var(--sklearn-color-fitted-level-1);\n}\n\n/* On hover */\n#sk-container-id-3 a.estimator_doc_link:hover {\n  /* unfitted */\n  background-color: var(--sklearn-color-unfitted-level-3);\n  color: var(--sklearn-color-background);\n  text-decoration: none;\n}\n\n#sk-container-id-3 a.estimator_doc_link.fitted:hover {\n  /* fitted */\n  background-color: var(--sklearn-color-fitted-level-3);\n}\n</style><div id=\"sk-container-id-3\" class=\"sk-top-container\"><div class=\"sk-text-repr-fallback\"><pre>SVC(random_state=42)</pre><b>In a Jupyter environment, please rerun this cell to show the HTML representation or trust the notebook. <br />On GitHub, the HTML representation is unable to render, please try loading this page with nbviewer.org.</b></div><div class=\"sk-container\" hidden><div class=\"sk-item\"><div class=\"sk-estimator fitted sk-toggleable\"><input class=\"sk-toggleable__control sk-hidden--visually\" id=\"sk-estimator-id-3\" type=\"checkbox\" checked><label for=\"sk-estimator-id-3\" class=\"sk-toggleable__label fitted sk-toggleable__label-arrow fitted\">&nbsp;&nbsp;SVC<a class=\"sk-estimator-doc-link fitted\" rel=\"noreferrer\" target=\"_blank\" href=\"https://scikit-learn.org/1.4/modules/generated/sklearn.svm.SVC.html\">?<span>Documentation for SVC</span></a><span class=\"sk-estimator-doc-link fitted\">i<span>Fitted</span></span></label><div class=\"sk-toggleable__content fitted\"><pre>SVC(random_state=42)</pre></div> </div></div></div></div>"
     },
     "execution_count": 14,
     "metadata": {},
     "output_type": "execute_result"
    }
   ],
   "source": [
    "rbf_svm = SVC(kernel=\"rbf\", random_state=42)\n",
    "rbf_svm.fit(X_train, y_train)"
   ],
   "metadata": {
    "collapsed": false,
    "ExecuteTime": {
     "end_time": "2024-04-15T01:47:28.797302Z",
     "start_time": "2024-04-15T01:47:28.719333Z"
    }
   },
   "id": "27bedf5e8b0b1643"
  },
  {
   "cell_type": "code",
   "execution_count": 15,
   "outputs": [
    {
     "name": "stdout",
     "output_type": "stream",
     "text": [
      "[[121  89]\n",
      " [  2 239]]\n",
      "              precision    recall  f1-score   support\n",
      "\n",
      "          -2       0.98      0.58      0.73       210\n",
      "          -1       0.73      0.99      0.84       241\n",
      "\n",
      "    accuracy                           0.80       451\n",
      "   macro avg       0.86      0.78      0.78       451\n",
      "weighted avg       0.85      0.80      0.79       451\n"
     ]
    }
   ],
   "source": [
    "y_pred = rbf_svm.predict(X_test)\n",
    "print(confusion_matrix(y_test, y_pred))\n",
    "print(classification_report(y_test, y_pred))"
   ],
   "metadata": {
    "collapsed": false,
    "ExecuteTime": {
     "end_time": "2024-04-15T01:47:31.805226Z",
     "start_time": "2024-04-15T01:47:31.727644Z"
    }
   },
   "id": "bf7d1505b53f7574"
  },
  {
   "cell_type": "code",
   "execution_count": 50,
   "outputs": [
    {
     "data": {
      "text/plain": "SVC(kernel='sigmoid', random_state=42)",
      "text/html": "<style>#sk-container-id-9 {\n  /* Definition of color scheme common for light and dark mode */\n  --sklearn-color-text: black;\n  --sklearn-color-line: gray;\n  /* Definition of color scheme for unfitted estimators */\n  --sklearn-color-unfitted-level-0: #fff5e6;\n  --sklearn-color-unfitted-level-1: #f6e4d2;\n  --sklearn-color-unfitted-level-2: #ffe0b3;\n  --sklearn-color-unfitted-level-3: chocolate;\n  /* Definition of color scheme for fitted estimators */\n  --sklearn-color-fitted-level-0: #f0f8ff;\n  --sklearn-color-fitted-level-1: #d4ebff;\n  --sklearn-color-fitted-level-2: #b3dbfd;\n  --sklearn-color-fitted-level-3: cornflowerblue;\n\n  /* Specific color for light theme */\n  --sklearn-color-text-on-default-background: var(--sg-text-color, var(--theme-code-foreground, var(--jp-content-font-color1, black)));\n  --sklearn-color-background: var(--sg-background-color, var(--theme-background, var(--jp-layout-color0, white)));\n  --sklearn-color-border-box: var(--sg-text-color, var(--theme-code-foreground, var(--jp-content-font-color1, black)));\n  --sklearn-color-icon: #696969;\n\n  @media (prefers-color-scheme: dark) {\n    /* Redefinition of color scheme for dark theme */\n    --sklearn-color-text-on-default-background: var(--sg-text-color, var(--theme-code-foreground, var(--jp-content-font-color1, white)));\n    --sklearn-color-background: var(--sg-background-color, var(--theme-background, var(--jp-layout-color0, #111)));\n    --sklearn-color-border-box: var(--sg-text-color, var(--theme-code-foreground, var(--jp-content-font-color1, white)));\n    --sklearn-color-icon: #878787;\n  }\n}\n\n#sk-container-id-9 {\n  color: var(--sklearn-color-text);\n}\n\n#sk-container-id-9 pre {\n  padding: 0;\n}\n\n#sk-container-id-9 input.sk-hidden--visually {\n  border: 0;\n  clip: rect(1px 1px 1px 1px);\n  clip: rect(1px, 1px, 1px, 1px);\n  height: 1px;\n  margin: -1px;\n  overflow: hidden;\n  padding: 0;\n  position: absolute;\n  width: 1px;\n}\n\n#sk-container-id-9 div.sk-dashed-wrapped {\n  border: 1px dashed var(--sklearn-color-line);\n  margin: 0 0.4em 0.5em 0.4em;\n  box-sizing: border-box;\n  padding-bottom: 0.4em;\n  background-color: var(--sklearn-color-background);\n}\n\n#sk-container-id-9 div.sk-container {\n  /* jupyter's `normalize.less` sets `[hidden] { display: none; }`\n     but bootstrap.min.css set `[hidden] { display: none !important; }`\n     so we also need the `!important` here to be able to override the\n     default hidden behavior on the sphinx rendered scikit-learn.org.\n     See: https://github.com/scikit-learn/scikit-learn/issues/21755 */\n  display: inline-block !important;\n  position: relative;\n}\n\n#sk-container-id-9 div.sk-text-repr-fallback {\n  display: none;\n}\n\ndiv.sk-parallel-item,\ndiv.sk-serial,\ndiv.sk-item {\n  /* draw centered vertical line to link estimators */\n  background-image: linear-gradient(var(--sklearn-color-text-on-default-background), var(--sklearn-color-text-on-default-background));\n  background-size: 2px 100%;\n  background-repeat: no-repeat;\n  background-position: center center;\n}\n\n/* Parallel-specific style estimator block */\n\n#sk-container-id-9 div.sk-parallel-item::after {\n  content: \"\";\n  width: 100%;\n  border-bottom: 2px solid var(--sklearn-color-text-on-default-background);\n  flex-grow: 1;\n}\n\n#sk-container-id-9 div.sk-parallel {\n  display: flex;\n  align-items: stretch;\n  justify-content: center;\n  background-color: var(--sklearn-color-background);\n  position: relative;\n}\n\n#sk-container-id-9 div.sk-parallel-item {\n  display: flex;\n  flex-direction: column;\n}\n\n#sk-container-id-9 div.sk-parallel-item:first-child::after {\n  align-self: flex-end;\n  width: 50%;\n}\n\n#sk-container-id-9 div.sk-parallel-item:last-child::after {\n  align-self: flex-start;\n  width: 50%;\n}\n\n#sk-container-id-9 div.sk-parallel-item:only-child::after {\n  width: 0;\n}\n\n/* Serial-specific style estimator block */\n\n#sk-container-id-9 div.sk-serial {\n  display: flex;\n  flex-direction: column;\n  align-items: center;\n  background-color: var(--sklearn-color-background);\n  padding-right: 1em;\n  padding-left: 1em;\n}\n\n\n/* Toggleable style: style used for estimator/Pipeline/ColumnTransformer box that is\nclickable and can be expanded/collapsed.\n- Pipeline and ColumnTransformer use this feature and define the default style\n- Estimators will overwrite some part of the style using the `sk-estimator` class\n*/\n\n/* Pipeline and ColumnTransformer style (default) */\n\n#sk-container-id-9 div.sk-toggleable {\n  /* Default theme specific background. It is overwritten whether we have a\n  specific estimator or a Pipeline/ColumnTransformer */\n  background-color: var(--sklearn-color-background);\n}\n\n/* Toggleable label */\n#sk-container-id-9 label.sk-toggleable__label {\n  cursor: pointer;\n  display: block;\n  width: 100%;\n  margin-bottom: 0;\n  padding: 0.5em;\n  box-sizing: border-box;\n  text-align: center;\n}\n\n#sk-container-id-9 label.sk-toggleable__label-arrow:before {\n  /* Arrow on the left of the label */\n  content: \"▸\";\n  float: left;\n  margin-right: 0.25em;\n  color: var(--sklearn-color-icon);\n}\n\n#sk-container-id-9 label.sk-toggleable__label-arrow:hover:before {\n  color: var(--sklearn-color-text);\n}\n\n/* Toggleable content - dropdown */\n\n#sk-container-id-9 div.sk-toggleable__content {\n  max-height: 0;\n  max-width: 0;\n  overflow: hidden;\n  text-align: left;\n  /* unfitted */\n  background-color: var(--sklearn-color-unfitted-level-0);\n}\n\n#sk-container-id-9 div.sk-toggleable__content.fitted {\n  /* fitted */\n  background-color: var(--sklearn-color-fitted-level-0);\n}\n\n#sk-container-id-9 div.sk-toggleable__content pre {\n  margin: 0.2em;\n  border-radius: 0.25em;\n  color: var(--sklearn-color-text);\n  /* unfitted */\n  background-color: var(--sklearn-color-unfitted-level-0);\n}\n\n#sk-container-id-9 div.sk-toggleable__content.fitted pre {\n  /* unfitted */\n  background-color: var(--sklearn-color-fitted-level-0);\n}\n\n#sk-container-id-9 input.sk-toggleable__control:checked~div.sk-toggleable__content {\n  /* Expand drop-down */\n  max-height: 200px;\n  max-width: 100%;\n  overflow: auto;\n}\n\n#sk-container-id-9 input.sk-toggleable__control:checked~label.sk-toggleable__label-arrow:before {\n  content: \"▾\";\n}\n\n/* Pipeline/ColumnTransformer-specific style */\n\n#sk-container-id-9 div.sk-label input.sk-toggleable__control:checked~label.sk-toggleable__label {\n  color: var(--sklearn-color-text);\n  background-color: var(--sklearn-color-unfitted-level-2);\n}\n\n#sk-container-id-9 div.sk-label.fitted input.sk-toggleable__control:checked~label.sk-toggleable__label {\n  background-color: var(--sklearn-color-fitted-level-2);\n}\n\n/* Estimator-specific style */\n\n/* Colorize estimator box */\n#sk-container-id-9 div.sk-estimator input.sk-toggleable__control:checked~label.sk-toggleable__label {\n  /* unfitted */\n  background-color: var(--sklearn-color-unfitted-level-2);\n}\n\n#sk-container-id-9 div.sk-estimator.fitted input.sk-toggleable__control:checked~label.sk-toggleable__label {\n  /* fitted */\n  background-color: var(--sklearn-color-fitted-level-2);\n}\n\n#sk-container-id-9 div.sk-label label.sk-toggleable__label,\n#sk-container-id-9 div.sk-label label {\n  /* The background is the default theme color */\n  color: var(--sklearn-color-text-on-default-background);\n}\n\n/* On hover, darken the color of the background */\n#sk-container-id-9 div.sk-label:hover label.sk-toggleable__label {\n  color: var(--sklearn-color-text);\n  background-color: var(--sklearn-color-unfitted-level-2);\n}\n\n/* Label box, darken color on hover, fitted */\n#sk-container-id-9 div.sk-label.fitted:hover label.sk-toggleable__label.fitted {\n  color: var(--sklearn-color-text);\n  background-color: var(--sklearn-color-fitted-level-2);\n}\n\n/* Estimator label */\n\n#sk-container-id-9 div.sk-label label {\n  font-family: monospace;\n  font-weight: bold;\n  display: inline-block;\n  line-height: 1.2em;\n}\n\n#sk-container-id-9 div.sk-label-container {\n  text-align: center;\n}\n\n/* Estimator-specific */\n#sk-container-id-9 div.sk-estimator {\n  font-family: monospace;\n  border: 1px dotted var(--sklearn-color-border-box);\n  border-radius: 0.25em;\n  box-sizing: border-box;\n  margin-bottom: 0.5em;\n  /* unfitted */\n  background-color: var(--sklearn-color-unfitted-level-0);\n}\n\n#sk-container-id-9 div.sk-estimator.fitted {\n  /* fitted */\n  background-color: var(--sklearn-color-fitted-level-0);\n}\n\n/* on hover */\n#sk-container-id-9 div.sk-estimator:hover {\n  /* unfitted */\n  background-color: var(--sklearn-color-unfitted-level-2);\n}\n\n#sk-container-id-9 div.sk-estimator.fitted:hover {\n  /* fitted */\n  background-color: var(--sklearn-color-fitted-level-2);\n}\n\n/* Specification for estimator info (e.g. \"i\" and \"?\") */\n\n/* Common style for \"i\" and \"?\" */\n\n.sk-estimator-doc-link,\na:link.sk-estimator-doc-link,\na:visited.sk-estimator-doc-link {\n  float: right;\n  font-size: smaller;\n  line-height: 1em;\n  font-family: monospace;\n  background-color: var(--sklearn-color-background);\n  border-radius: 1em;\n  height: 1em;\n  width: 1em;\n  text-decoration: none !important;\n  margin-left: 1ex;\n  /* unfitted */\n  border: var(--sklearn-color-unfitted-level-1) 1pt solid;\n  color: var(--sklearn-color-unfitted-level-1);\n}\n\n.sk-estimator-doc-link.fitted,\na:link.sk-estimator-doc-link.fitted,\na:visited.sk-estimator-doc-link.fitted {\n  /* fitted */\n  border: var(--sklearn-color-fitted-level-1) 1pt solid;\n  color: var(--sklearn-color-fitted-level-1);\n}\n\n/* On hover */\ndiv.sk-estimator:hover .sk-estimator-doc-link:hover,\n.sk-estimator-doc-link:hover,\ndiv.sk-label-container:hover .sk-estimator-doc-link:hover,\n.sk-estimator-doc-link:hover {\n  /* unfitted */\n  background-color: var(--sklearn-color-unfitted-level-3);\n  color: var(--sklearn-color-background);\n  text-decoration: none;\n}\n\ndiv.sk-estimator.fitted:hover .sk-estimator-doc-link.fitted:hover,\n.sk-estimator-doc-link.fitted:hover,\ndiv.sk-label-container:hover .sk-estimator-doc-link.fitted:hover,\n.sk-estimator-doc-link.fitted:hover {\n  /* fitted */\n  background-color: var(--sklearn-color-fitted-level-3);\n  color: var(--sklearn-color-background);\n  text-decoration: none;\n}\n\n/* Span, style for the box shown on hovering the info icon */\n.sk-estimator-doc-link span {\n  display: none;\n  z-index: 9999;\n  position: relative;\n  font-weight: normal;\n  right: .2ex;\n  padding: .5ex;\n  margin: .5ex;\n  width: min-content;\n  min-width: 20ex;\n  max-width: 50ex;\n  color: var(--sklearn-color-text);\n  box-shadow: 2pt 2pt 4pt #999;\n  /* unfitted */\n  background: var(--sklearn-color-unfitted-level-0);\n  border: .5pt solid var(--sklearn-color-unfitted-level-3);\n}\n\n.sk-estimator-doc-link.fitted span {\n  /* fitted */\n  background: var(--sklearn-color-fitted-level-0);\n  border: var(--sklearn-color-fitted-level-3);\n}\n\n.sk-estimator-doc-link:hover span {\n  display: block;\n}\n\n/* \"?\"-specific style due to the `<a>` HTML tag */\n\n#sk-container-id-9 a.estimator_doc_link {\n  float: right;\n  font-size: 1rem;\n  line-height: 1em;\n  font-family: monospace;\n  background-color: var(--sklearn-color-background);\n  border-radius: 1rem;\n  height: 1rem;\n  width: 1rem;\n  text-decoration: none;\n  /* unfitted */\n  color: var(--sklearn-color-unfitted-level-1);\n  border: var(--sklearn-color-unfitted-level-1) 1pt solid;\n}\n\n#sk-container-id-9 a.estimator_doc_link.fitted {\n  /* fitted */\n  border: var(--sklearn-color-fitted-level-1) 1pt solid;\n  color: var(--sklearn-color-fitted-level-1);\n}\n\n/* On hover */\n#sk-container-id-9 a.estimator_doc_link:hover {\n  /* unfitted */\n  background-color: var(--sklearn-color-unfitted-level-3);\n  color: var(--sklearn-color-background);\n  text-decoration: none;\n}\n\n#sk-container-id-9 a.estimator_doc_link.fitted:hover {\n  /* fitted */\n  background-color: var(--sklearn-color-fitted-level-3);\n}\n</style><div id=\"sk-container-id-9\" class=\"sk-top-container\"><div class=\"sk-text-repr-fallback\"><pre>SVC(kernel=&#x27;sigmoid&#x27;, random_state=42)</pre><b>In a Jupyter environment, please rerun this cell to show the HTML representation or trust the notebook. <br />On GitHub, the HTML representation is unable to render, please try loading this page with nbviewer.org.</b></div><div class=\"sk-container\" hidden><div class=\"sk-item\"><div class=\"sk-estimator fitted sk-toggleable\"><input class=\"sk-toggleable__control sk-hidden--visually\" id=\"sk-estimator-id-9\" type=\"checkbox\" checked><label for=\"sk-estimator-id-9\" class=\"sk-toggleable__label fitted sk-toggleable__label-arrow fitted\">&nbsp;&nbsp;SVC<a class=\"sk-estimator-doc-link fitted\" rel=\"noreferrer\" target=\"_blank\" href=\"https://scikit-learn.org/1.4/modules/generated/sklearn.svm.SVC.html\">?<span>Documentation for SVC</span></a><span class=\"sk-estimator-doc-link fitted\">i<span>Fitted</span></span></label><div class=\"sk-toggleable__content fitted\"><pre>SVC(kernel=&#x27;sigmoid&#x27;, random_state=42)</pre></div> </div></div></div></div>"
     },
     "execution_count": 50,
     "metadata": {},
     "output_type": "execute_result"
    }
   ],
   "source": [
    "sig_svm = SVC(kernel=\"sigmoid\", random_state=42)\n",
    "sig_svm.fit(X_train, y_train)"
   ],
   "metadata": {
    "collapsed": false,
    "ExecuteTime": {
     "end_time": "2024-03-28T17:29:35.081318Z",
     "start_time": "2024-03-28T17:29:34.981333Z"
    }
   },
   "id": "aba7007d19591fa8"
  },
  {
   "cell_type": "code",
   "execution_count": 51,
   "outputs": [
    {
     "name": "stdout",
     "output_type": "stream",
     "text": [
      "[[108 102]\n",
      " [  0 241]]\n",
      "              precision    recall  f1-score   support\n",
      "\n",
      "          -2       1.00      0.51      0.68       210\n",
      "          -1       0.70      1.00      0.83       241\n",
      "\n",
      "    accuracy                           0.77       451\n",
      "   macro avg       0.85      0.76      0.75       451\n",
      "weighted avg       0.84      0.77      0.76       451\n"
     ]
    }
   ],
   "source": [
    "y_pred = sig_svm.predict(X_test)\n",
    "print(confusion_matrix(y_test, y_pred))\n",
    "print(classification_report(y_test, y_pred))"
   ],
   "metadata": {
    "collapsed": false,
    "ExecuteTime": {
     "end_time": "2024-03-28T17:29:35.942963Z",
     "start_time": "2024-03-28T17:29:35.871846Z"
    }
   },
   "id": "a3cd10f9a4135aa7"
  },
  {
   "cell_type": "code",
   "execution_count": 52,
   "outputs": [
    {
     "name": "stdout",
     "output_type": "stream",
     "text": [
      "Best parameters: {'C': 10, 'degree': 3, 'gamma': 'scale', 'kernel': 'poly'}\n",
      "Best cross-validated score: 0.8622222222222223\n"
     ]
    }
   ],
   "source": [
    "from sklearn.model_selection import GridSearchCV\n",
    "\n",
    "param_grid = {\n",
    "    'C': [0.1, 1, 10, 100],  # Example range\n",
    "    'gamma': ['scale', 'auto', 0.01, 0.001],  # Example range\n",
    "    'degree': [2, 3, 4],  # Only for poly kernel\n",
    "    'kernel': ['rbf', 'poly']\n",
    "}\n",
    "\n",
    "svc = SVC()\n",
    "grid_search = GridSearchCV(svc, param_grid, cv=5, scoring='accuracy')\n",
    "grid_search.fit(X_train, y_train)\n",
    "\n",
    "# The best hyperparameters found\n",
    "best_parameters = grid_search.best_params_\n",
    "best_score = grid_search.best_score_\n",
    "\n",
    "print(f\"Best parameters: {best_parameters}\")\n",
    "print(f\"Best cross-validated score: {best_score}\")\n"
   ],
   "metadata": {
    "collapsed": false,
    "ExecuteTime": {
     "end_time": "2024-03-28T17:33:09.162114Z",
     "start_time": "2024-03-28T17:29:38.423751Z"
    }
   },
   "id": "d8f8bd54da832dde"
  },
  {
   "cell_type": "code",
   "execution_count": 16,
   "outputs": [
    {
     "data": {
      "text/plain": "SVC(C=10, kernel='poly')",
      "text/html": "<style>#sk-container-id-4 {\n  /* Definition of color scheme common for light and dark mode */\n  --sklearn-color-text: black;\n  --sklearn-color-line: gray;\n  /* Definition of color scheme for unfitted estimators */\n  --sklearn-color-unfitted-level-0: #fff5e6;\n  --sklearn-color-unfitted-level-1: #f6e4d2;\n  --sklearn-color-unfitted-level-2: #ffe0b3;\n  --sklearn-color-unfitted-level-3: chocolate;\n  /* Definition of color scheme for fitted estimators */\n  --sklearn-color-fitted-level-0: #f0f8ff;\n  --sklearn-color-fitted-level-1: #d4ebff;\n  --sklearn-color-fitted-level-2: #b3dbfd;\n  --sklearn-color-fitted-level-3: cornflowerblue;\n\n  /* Specific color for light theme */\n  --sklearn-color-text-on-default-background: var(--sg-text-color, var(--theme-code-foreground, var(--jp-content-font-color1, black)));\n  --sklearn-color-background: var(--sg-background-color, var(--theme-background, var(--jp-layout-color0, white)));\n  --sklearn-color-border-box: var(--sg-text-color, var(--theme-code-foreground, var(--jp-content-font-color1, black)));\n  --sklearn-color-icon: #696969;\n\n  @media (prefers-color-scheme: dark) {\n    /* Redefinition of color scheme for dark theme */\n    --sklearn-color-text-on-default-background: var(--sg-text-color, var(--theme-code-foreground, var(--jp-content-font-color1, white)));\n    --sklearn-color-background: var(--sg-background-color, var(--theme-background, var(--jp-layout-color0, #111)));\n    --sklearn-color-border-box: var(--sg-text-color, var(--theme-code-foreground, var(--jp-content-font-color1, white)));\n    --sklearn-color-icon: #878787;\n  }\n}\n\n#sk-container-id-4 {\n  color: var(--sklearn-color-text);\n}\n\n#sk-container-id-4 pre {\n  padding: 0;\n}\n\n#sk-container-id-4 input.sk-hidden--visually {\n  border: 0;\n  clip: rect(1px 1px 1px 1px);\n  clip: rect(1px, 1px, 1px, 1px);\n  height: 1px;\n  margin: -1px;\n  overflow: hidden;\n  padding: 0;\n  position: absolute;\n  width: 1px;\n}\n\n#sk-container-id-4 div.sk-dashed-wrapped {\n  border: 1px dashed var(--sklearn-color-line);\n  margin: 0 0.4em 0.5em 0.4em;\n  box-sizing: border-box;\n  padding-bottom: 0.4em;\n  background-color: var(--sklearn-color-background);\n}\n\n#sk-container-id-4 div.sk-container {\n  /* jupyter's `normalize.less` sets `[hidden] { display: none; }`\n     but bootstrap.min.css set `[hidden] { display: none !important; }`\n     so we also need the `!important` here to be able to override the\n     default hidden behavior on the sphinx rendered scikit-learn.org.\n     See: https://github.com/scikit-learn/scikit-learn/issues/21755 */\n  display: inline-block !important;\n  position: relative;\n}\n\n#sk-container-id-4 div.sk-text-repr-fallback {\n  display: none;\n}\n\ndiv.sk-parallel-item,\ndiv.sk-serial,\ndiv.sk-item {\n  /* draw centered vertical line to link estimators */\n  background-image: linear-gradient(var(--sklearn-color-text-on-default-background), var(--sklearn-color-text-on-default-background));\n  background-size: 2px 100%;\n  background-repeat: no-repeat;\n  background-position: center center;\n}\n\n/* Parallel-specific style estimator block */\n\n#sk-container-id-4 div.sk-parallel-item::after {\n  content: \"\";\n  width: 100%;\n  border-bottom: 2px solid var(--sklearn-color-text-on-default-background);\n  flex-grow: 1;\n}\n\n#sk-container-id-4 div.sk-parallel {\n  display: flex;\n  align-items: stretch;\n  justify-content: center;\n  background-color: var(--sklearn-color-background);\n  position: relative;\n}\n\n#sk-container-id-4 div.sk-parallel-item {\n  display: flex;\n  flex-direction: column;\n}\n\n#sk-container-id-4 div.sk-parallel-item:first-child::after {\n  align-self: flex-end;\n  width: 50%;\n}\n\n#sk-container-id-4 div.sk-parallel-item:last-child::after {\n  align-self: flex-start;\n  width: 50%;\n}\n\n#sk-container-id-4 div.sk-parallel-item:only-child::after {\n  width: 0;\n}\n\n/* Serial-specific style estimator block */\n\n#sk-container-id-4 div.sk-serial {\n  display: flex;\n  flex-direction: column;\n  align-items: center;\n  background-color: var(--sklearn-color-background);\n  padding-right: 1em;\n  padding-left: 1em;\n}\n\n\n/* Toggleable style: style used for estimator/Pipeline/ColumnTransformer box that is\nclickable and can be expanded/collapsed.\n- Pipeline and ColumnTransformer use this feature and define the default style\n- Estimators will overwrite some part of the style using the `sk-estimator` class\n*/\n\n/* Pipeline and ColumnTransformer style (default) */\n\n#sk-container-id-4 div.sk-toggleable {\n  /* Default theme specific background. It is overwritten whether we have a\n  specific estimator or a Pipeline/ColumnTransformer */\n  background-color: var(--sklearn-color-background);\n}\n\n/* Toggleable label */\n#sk-container-id-4 label.sk-toggleable__label {\n  cursor: pointer;\n  display: block;\n  width: 100%;\n  margin-bottom: 0;\n  padding: 0.5em;\n  box-sizing: border-box;\n  text-align: center;\n}\n\n#sk-container-id-4 label.sk-toggleable__label-arrow:before {\n  /* Arrow on the left of the label */\n  content: \"▸\";\n  float: left;\n  margin-right: 0.25em;\n  color: var(--sklearn-color-icon);\n}\n\n#sk-container-id-4 label.sk-toggleable__label-arrow:hover:before {\n  color: var(--sklearn-color-text);\n}\n\n/* Toggleable content - dropdown */\n\n#sk-container-id-4 div.sk-toggleable__content {\n  max-height: 0;\n  max-width: 0;\n  overflow: hidden;\n  text-align: left;\n  /* unfitted */\n  background-color: var(--sklearn-color-unfitted-level-0);\n}\n\n#sk-container-id-4 div.sk-toggleable__content.fitted {\n  /* fitted */\n  background-color: var(--sklearn-color-fitted-level-0);\n}\n\n#sk-container-id-4 div.sk-toggleable__content pre {\n  margin: 0.2em;\n  border-radius: 0.25em;\n  color: var(--sklearn-color-text);\n  /* unfitted */\n  background-color: var(--sklearn-color-unfitted-level-0);\n}\n\n#sk-container-id-4 div.sk-toggleable__content.fitted pre {\n  /* unfitted */\n  background-color: var(--sklearn-color-fitted-level-0);\n}\n\n#sk-container-id-4 input.sk-toggleable__control:checked~div.sk-toggleable__content {\n  /* Expand drop-down */\n  max-height: 200px;\n  max-width: 100%;\n  overflow: auto;\n}\n\n#sk-container-id-4 input.sk-toggleable__control:checked~label.sk-toggleable__label-arrow:before {\n  content: \"▾\";\n}\n\n/* Pipeline/ColumnTransformer-specific style */\n\n#sk-container-id-4 div.sk-label input.sk-toggleable__control:checked~label.sk-toggleable__label {\n  color: var(--sklearn-color-text);\n  background-color: var(--sklearn-color-unfitted-level-2);\n}\n\n#sk-container-id-4 div.sk-label.fitted input.sk-toggleable__control:checked~label.sk-toggleable__label {\n  background-color: var(--sklearn-color-fitted-level-2);\n}\n\n/* Estimator-specific style */\n\n/* Colorize estimator box */\n#sk-container-id-4 div.sk-estimator input.sk-toggleable__control:checked~label.sk-toggleable__label {\n  /* unfitted */\n  background-color: var(--sklearn-color-unfitted-level-2);\n}\n\n#sk-container-id-4 div.sk-estimator.fitted input.sk-toggleable__control:checked~label.sk-toggleable__label {\n  /* fitted */\n  background-color: var(--sklearn-color-fitted-level-2);\n}\n\n#sk-container-id-4 div.sk-label label.sk-toggleable__label,\n#sk-container-id-4 div.sk-label label {\n  /* The background is the default theme color */\n  color: var(--sklearn-color-text-on-default-background);\n}\n\n/* On hover, darken the color of the background */\n#sk-container-id-4 div.sk-label:hover label.sk-toggleable__label {\n  color: var(--sklearn-color-text);\n  background-color: var(--sklearn-color-unfitted-level-2);\n}\n\n/* Label box, darken color on hover, fitted */\n#sk-container-id-4 div.sk-label.fitted:hover label.sk-toggleable__label.fitted {\n  color: var(--sklearn-color-text);\n  background-color: var(--sklearn-color-fitted-level-2);\n}\n\n/* Estimator label */\n\n#sk-container-id-4 div.sk-label label {\n  font-family: monospace;\n  font-weight: bold;\n  display: inline-block;\n  line-height: 1.2em;\n}\n\n#sk-container-id-4 div.sk-label-container {\n  text-align: center;\n}\n\n/* Estimator-specific */\n#sk-container-id-4 div.sk-estimator {\n  font-family: monospace;\n  border: 1px dotted var(--sklearn-color-border-box);\n  border-radius: 0.25em;\n  box-sizing: border-box;\n  margin-bottom: 0.5em;\n  /* unfitted */\n  background-color: var(--sklearn-color-unfitted-level-0);\n}\n\n#sk-container-id-4 div.sk-estimator.fitted {\n  /* fitted */\n  background-color: var(--sklearn-color-fitted-level-0);\n}\n\n/* on hover */\n#sk-container-id-4 div.sk-estimator:hover {\n  /* unfitted */\n  background-color: var(--sklearn-color-unfitted-level-2);\n}\n\n#sk-container-id-4 div.sk-estimator.fitted:hover {\n  /* fitted */\n  background-color: var(--sklearn-color-fitted-level-2);\n}\n\n/* Specification for estimator info (e.g. \"i\" and \"?\") */\n\n/* Common style for \"i\" and \"?\" */\n\n.sk-estimator-doc-link,\na:link.sk-estimator-doc-link,\na:visited.sk-estimator-doc-link {\n  float: right;\n  font-size: smaller;\n  line-height: 1em;\n  font-family: monospace;\n  background-color: var(--sklearn-color-background);\n  border-radius: 1em;\n  height: 1em;\n  width: 1em;\n  text-decoration: none !important;\n  margin-left: 1ex;\n  /* unfitted */\n  border: var(--sklearn-color-unfitted-level-1) 1pt solid;\n  color: var(--sklearn-color-unfitted-level-1);\n}\n\n.sk-estimator-doc-link.fitted,\na:link.sk-estimator-doc-link.fitted,\na:visited.sk-estimator-doc-link.fitted {\n  /* fitted */\n  border: var(--sklearn-color-fitted-level-1) 1pt solid;\n  color: var(--sklearn-color-fitted-level-1);\n}\n\n/* On hover */\ndiv.sk-estimator:hover .sk-estimator-doc-link:hover,\n.sk-estimator-doc-link:hover,\ndiv.sk-label-container:hover .sk-estimator-doc-link:hover,\n.sk-estimator-doc-link:hover {\n  /* unfitted */\n  background-color: var(--sklearn-color-unfitted-level-3);\n  color: var(--sklearn-color-background);\n  text-decoration: none;\n}\n\ndiv.sk-estimator.fitted:hover .sk-estimator-doc-link.fitted:hover,\n.sk-estimator-doc-link.fitted:hover,\ndiv.sk-label-container:hover .sk-estimator-doc-link.fitted:hover,\n.sk-estimator-doc-link.fitted:hover {\n  /* fitted */\n  background-color: var(--sklearn-color-fitted-level-3);\n  color: var(--sklearn-color-background);\n  text-decoration: none;\n}\n\n/* Span, style for the box shown on hovering the info icon */\n.sk-estimator-doc-link span {\n  display: none;\n  z-index: 9999;\n  position: relative;\n  font-weight: normal;\n  right: .2ex;\n  padding: .5ex;\n  margin: .5ex;\n  width: min-content;\n  min-width: 20ex;\n  max-width: 50ex;\n  color: var(--sklearn-color-text);\n  box-shadow: 2pt 2pt 4pt #999;\n  /* unfitted */\n  background: var(--sklearn-color-unfitted-level-0);\n  border: .5pt solid var(--sklearn-color-unfitted-level-3);\n}\n\n.sk-estimator-doc-link.fitted span {\n  /* fitted */\n  background: var(--sklearn-color-fitted-level-0);\n  border: var(--sklearn-color-fitted-level-3);\n}\n\n.sk-estimator-doc-link:hover span {\n  display: block;\n}\n\n/* \"?\"-specific style due to the `<a>` HTML tag */\n\n#sk-container-id-4 a.estimator_doc_link {\n  float: right;\n  font-size: 1rem;\n  line-height: 1em;\n  font-family: monospace;\n  background-color: var(--sklearn-color-background);\n  border-radius: 1rem;\n  height: 1rem;\n  width: 1rem;\n  text-decoration: none;\n  /* unfitted */\n  color: var(--sklearn-color-unfitted-level-1);\n  border: var(--sklearn-color-unfitted-level-1) 1pt solid;\n}\n\n#sk-container-id-4 a.estimator_doc_link.fitted {\n  /* fitted */\n  border: var(--sklearn-color-fitted-level-1) 1pt solid;\n  color: var(--sklearn-color-fitted-level-1);\n}\n\n/* On hover */\n#sk-container-id-4 a.estimator_doc_link:hover {\n  /* unfitted */\n  background-color: var(--sklearn-color-unfitted-level-3);\n  color: var(--sklearn-color-background);\n  text-decoration: none;\n}\n\n#sk-container-id-4 a.estimator_doc_link.fitted:hover {\n  /* fitted */\n  background-color: var(--sklearn-color-fitted-level-3);\n}\n</style><div id=\"sk-container-id-4\" class=\"sk-top-container\"><div class=\"sk-text-repr-fallback\"><pre>SVC(C=10, kernel=&#x27;poly&#x27;)</pre><b>In a Jupyter environment, please rerun this cell to show the HTML representation or trust the notebook. <br />On GitHub, the HTML representation is unable to render, please try loading this page with nbviewer.org.</b></div><div class=\"sk-container\" hidden><div class=\"sk-item\"><div class=\"sk-estimator fitted sk-toggleable\"><input class=\"sk-toggleable__control sk-hidden--visually\" id=\"sk-estimator-id-4\" type=\"checkbox\" checked><label for=\"sk-estimator-id-4\" class=\"sk-toggleable__label fitted sk-toggleable__label-arrow fitted\">&nbsp;&nbsp;SVC<a class=\"sk-estimator-doc-link fitted\" rel=\"noreferrer\" target=\"_blank\" href=\"https://scikit-learn.org/1.4/modules/generated/sklearn.svm.SVC.html\">?<span>Documentation for SVC</span></a><span class=\"sk-estimator-doc-link fitted\">i<span>Fitted</span></span></label><div class=\"sk-toggleable__content fitted\"><pre>SVC(C=10, kernel=&#x27;poly&#x27;)</pre></div> </div></div></div></div>"
     },
     "execution_count": 16,
     "metadata": {},
     "output_type": "execute_result"
    }
   ],
   "source": [
    "best_model = SVC(C=10, degree=3, gamma='scale', kernel='poly')\n",
    "best_model.fit(X_train, y_train)"
   ],
   "metadata": {
    "collapsed": false,
    "ExecuteTime": {
     "end_time": "2024-04-15T01:47:45.688794Z",
     "start_time": "2024-04-15T01:47:45.640340Z"
    }
   },
   "id": "b12996e88e95c189"
  },
  {
   "cell_type": "code",
   "execution_count": 20,
   "outputs": [
    {
     "name": "stdout",
     "output_type": "stream",
     "text": [
      "[[183  27]\n",
      " [ 25 216]]\n",
      "              precision    recall  f1-score   support\n",
      "\n",
      "          -2       0.88      0.87      0.88       210\n",
      "          -1       0.89      0.90      0.89       241\n",
      "\n",
      "    accuracy                           0.88       451\n",
      "   macro avg       0.88      0.88      0.88       451\n",
      "weighted avg       0.88      0.88      0.88       451\n"
     ]
    }
   ],
   "source": [
    "y_pred = best_model.predict(X_test)\n",
    "cm = confusion_matrix(y_test, y_pred)\n",
    "print(cm)\n",
    "print(classification_report(y_test, y_pred))"
   ],
   "metadata": {
    "collapsed": false,
    "ExecuteTime": {
     "end_time": "2024-04-15T01:50:33.461385Z",
     "start_time": "2024-04-15T01:50:33.422032Z"
    }
   },
   "id": "bd32401dc7b00fa8"
  },
  {
   "cell_type": "code",
   "execution_count": 21,
   "outputs": [
    {
     "data": {
      "text/plain": "<Figure size 640x480 with 2 Axes>",
      "image/png": "[encoded data removed]"
     },
     "metadata": {},
     "output_type": "display_data"
    }
   ],
   "source": [
    "from sklearn.metrics import ConfusionMatrixDisplay\n",
    "disp = ConfusionMatrixDisplay(confusion_matrix=cm, display_labels=best_model.classes_)\n",
    "disp.plot()\n",
    "plt.show()"
   ],
   "metadata": {
    "collapsed": false,
    "ExecuteTime": {
     "end_time": "2024-04-15T01:50:34.900804Z",
     "start_time": "2024-04-15T01:50:34.615282Z"
    }
   },
   "id": "3336849a60579aa6"
  },
  {
   "cell_type": "code",
   "execution_count": 55,
   "outputs": [
    {
     "name": "stdout",
     "output_type": "stream",
     "text": [
      "Feature: season, Score: 0.00000\n",
      "Feature: active, Score: 0.00000\n",
      "Feature: all_star, Score: 0.00000\n",
      "Feature: Assist Tackles, Score: 0.00000\n",
      "Feature: Completion Percentage, Score: 0.00000\n",
      "Feature: Completions, Score: 0.00399\n",
      "Feature: Extra Points Made, Score: 0.00000\n",
      "Feature: FGM 1-19 yards, Score: 0.00000\n",
      "Feature: FGM 20-29 yards, Score: 0.00000\n",
      "Feature: FGM 30-39 yards, Score: 0.00000\n",
      "Feature: FGM 40-49 yards, Score: 0.00000\n",
      "Feature: FGM 50+ yards, Score: 0.00000\n",
      "Feature: Field Goal Attempts, Score: 0.00000\n",
      "Feature: Field Goal Made, Score: 0.00000\n",
      "Feature: Field Goal Percentage, Score: 0.00000\n",
      "Feature: Field Goals, Score: 0.00000\n",
      "Feature: Forced Fumbles, Score: 0.00000\n",
      "Feature: Gross Average Punt Yards, Score: 0.00000\n",
      "Feature: Interception Touchdowns, Score: 0.00000\n",
      "Feature: Interception Yards, Score: 0.00000\n",
      "Feature: Interceptions, Score: 0.00000\n",
      "Feature: Kick Extra Points, Score: 0.00000\n",
      "Feature: Kick Return Touchdowns, Score: 0.00000\n",
      "Feature: Kick Return Yards, Score: 0.00000\n",
      "Feature: Kick Returns, Score: 0.00000\n",
      "Feature: Long Field Goal Made, Score: 0.00000\n",
      "Feature: Long Kick Return, Score: -0.00044\n",
      "Feature: Long Punt, Score: 0.00000\n",
      "Feature: Long Punt Return, Score: 0.00000\n",
      "Feature: Long Reception, Score: -0.00133\n",
      "Feature: Long Rushing, Score: -0.00222\n",
      "Feature: Longest Pass, Score: -0.00222\n",
      "Feature: Passer Rating, Score: 0.00532\n",
      "Feature: Passes Defended, Score: -0.00044\n",
      "Feature: Passing Attempts, Score: 0.00089\n",
      "Feature: Passing Touchdowns, Score: -0.00222\n",
      "Feature: Passing Yards, Score: 0.00710\n",
      "Feature: Punt Return Fair Catches, Score: 0.00000\n",
      "Feature: Punt Return Touchdowns, Score: 0.00000\n",
      "Feature: Punt Return Yards, Score: -0.00044\n",
      "Feature: Punt Returns, Score: 0.00000\n",
      "Feature: Punt Yards, Score: 0.00089\n",
      "Feature: Punts, Score: 0.00000\n",
      "Feature: Receiving Touchdowns, Score: 0.00000\n",
      "Feature: Receiving Yards, Score: -0.00044\n",
      "Feature: Receptions, Score: 0.00000\n",
      "Feature: Return Touchdowns, Score: 0.00000\n",
      "Feature: Rushing Attempts, Score: -0.00044\n",
      "Feature: Rushing Touchdowns, Score: 0.00000\n",
      "Feature: Rushing Yards, Score: 0.00754\n",
      "Feature: Sacks, Score: 0.00000\n",
      "Feature: Solo Tackles, Score: -0.00443\n",
      "Feature: Total Kicking Points, Score: 0.00000\n",
      "Feature: Total Points, Score: 0.00222\n",
      "Feature: Total Sacks, Score: 0.00000\n",
      "Feature: Total Tackles, Score: -0.00310\n",
      "Feature: Total Touchdowns, Score: 0.00000\n",
      "Feature: Total Two Point Conversions, Score: 0.00000\n",
      "Feature: Yards Per Pass Attempt, Score: 0.00000\n",
      "Feature: Yards Per Reception, Score: 0.00000\n",
      "Feature: Yards Per Rush Attempt, Score: 0.00000\n",
      "Feature: weight, Score: 0.30244\n",
      "Feature: height, Score: 0.00089\n",
      "Feature: pos_rk, Score: -0.00355\n",
      "Feature: ovr_rk, Score: 0.15078\n",
      "Feature: grade, Score: 0.00576\n",
      "Feature: school_x_Akron, Score: 0.00000\n",
      "Feature: school_x_Alabama, Score: 0.00000\n",
      "Feature: school_x_Alcorn State, Score: 0.00000\n",
      "Feature: school_x_Appalachian State, Score: 0.00000\n",
      "Feature: school_x_Arizona, Score: 0.00000\n",
      "Feature: school_x_Arizona State, Score: 0.00000\n",
      "Feature: school_x_Arkansas, Score: 0.00000\n",
      "Feature: school_x_Arkansas State, Score: 0.00000\n",
      "Feature: school_x_Auburn, Score: 0.00000\n",
      "Feature: school_x_BYU, Score: 0.00000\n",
      "Feature: school_x_Ball State, Score: 0.00000\n",
      "Feature: school_x_Baylor, Score: 0.00000\n",
      "Feature: school_x_Boise State, Score: 0.00000\n",
      "Feature: school_x_Boston College, Score: 0.00000\n",
      "Feature: school_x_Bowling Green, Score: 0.00000\n",
      "Feature: school_x_Bucknell, Score: 0.00000\n",
      "Feature: school_x_Buffalo, Score: 0.00000\n",
      "Feature: school_x_California, Score: 0.00000\n",
      "Feature: school_x_Central Michigan, Score: 0.00000\n",
      "Feature: school_x_Cincinnati, Score: 0.00000\n",
      "Feature: school_x_Clemson, Score: 0.00000\n",
      "Feature: school_x_Coastal Carolina, Score: 0.00000\n",
      "Feature: school_x_Colorado, Score: 0.00000\n",
      "Feature: school_x_Colorado State, Score: 0.00000\n",
      "Feature: school_x_Dayton, Score: 0.00000\n",
      "Feature: school_x_Delaware, Score: 0.00000\n",
      "Feature: school_x_Duke, Score: 0.00000\n",
      "Feature: school_x_East Carolina, Score: 0.00000\n",
      "Feature: school_x_Eastern Michigan, Score: 0.00000\n",
      "Feature: school_x_Florida, Score: 0.00000\n",
      "Feature: school_x_Florida Atlantic, Score: 0.00000\n",
      "Feature: school_x_Florida International, Score: 0.00000\n",
      "Feature: school_x_Florida State, Score: 0.00000\n",
      "Feature: school_x_Fordham, Score: 0.00000\n",
      "Feature: school_x_Fresno State, Score: 0.00000\n",
      "Feature: school_x_Georgia, Score: 0.00000\n",
      "Feature: school_x_Georgia Southern, Score: 0.00000\n",
      "Feature: school_x_Georgia State, Score: 0.00000\n",
      "Feature: school_x_Georgia Tech, Score: 0.00000\n",
      "Feature: school_x_Hawai'i, Score: 0.00000\n",
      "Feature: school_x_Houston, Score: 0.00000\n",
      "Feature: school_x_Idaho, Score: 0.00000\n",
      "Feature: school_x_Illinois, Score: 0.00000\n",
      "Feature: school_x_Illinois State, Score: 0.00000\n",
      "Feature: school_x_Iowa, Score: 0.00000\n",
      "Feature: school_x_Iowa State, Score: 0.00000\n",
      "Feature: school_x_James Madison, Score: 0.00000\n",
      "Feature: school_x_Kansas, Score: 0.00000\n",
      "Feature: school_x_Kansas State, Score: 0.00000\n",
      "Feature: school_x_Kent State, Score: 0.00000\n",
      "Feature: school_x_Kentucky, Score: 0.00000\n",
      "Feature: school_x_LSU, Score: 0.00000\n",
      "Feature: school_x_Liberty, Score: 0.00000\n",
      "Feature: school_x_Louisiana Tech, Score: 0.00000\n",
      "Feature: school_x_Louisville, Score: 0.00000\n",
      "Feature: school_x_Marshall, Score: 0.00000\n",
      "Feature: school_x_Maryland, Score: 0.00000\n",
      "Feature: school_x_Memphis, Score: 0.00000\n",
      "Feature: school_x_Miami, Score: 0.00000\n",
      "Feature: school_x_Miami (OH), Score: 0.00000\n",
      "Feature: school_x_Michigan, Score: 0.00000\n",
      "Feature: school_x_Michigan State, Score: 0.00000\n",
      "Feature: school_x_Middle Tennessee, Score: 0.00000\n",
      "Feature: school_x_Minnesota, Score: 0.00000\n",
      "Feature: school_x_Mississippi State, Score: 0.00000\n",
      "Feature: school_x_Missouri, Score: 0.00000\n",
      "Feature: school_x_Montana, Score: 0.00000\n",
      "Feature: school_x_NC State, Score: 0.00000\n",
      "Feature: school_x_Navy, Score: 0.00000\n",
      "Feature: school_x_Nebraska, Score: 0.00000\n",
      "Feature: school_x_New Mexico, Score: 0.00000\n",
      "Feature: school_x_New Mexico State, Score: 0.00000\n",
      "Feature: school_x_Nicholls, Score: 0.00000\n",
      "Feature: school_x_North Carolina, Score: 0.00000\n",
      "Feature: school_x_North Carolina A&T, Score: 0.00000\n",
      "Feature: school_x_North Carolina Central, Score: 0.00000\n",
      "Feature: school_x_North Dakota State, Score: 0.00000\n",
      "Feature: school_x_North Texas, Score: 0.00000\n",
      "Feature: school_x_Northern Colorado, Score: 0.00000\n",
      "Feature: school_x_Northern Illinois, Score: 0.00000\n",
      "Feature: school_x_Northern Iowa, Score: 0.00000\n",
      "Feature: school_x_Northwestern, Score: 0.00000\n",
      "Feature: school_x_Northwestern State, Score: 0.00000\n",
      "Feature: school_x_Notre Dame, Score: 0.00000\n",
      "Feature: school_x_Ohio State, Score: 0.00000\n",
      "Feature: school_x_Oklahoma State, Score: 0.00000\n",
      "Feature: school_x_Old Dominion, Score: 0.00000\n",
      "Feature: school_x_Ole Miss, Score: 0.00000\n",
      "Feature: school_x_Oregon, Score: 0.00000\n",
      "Feature: school_x_Oregon State, Score: 0.00000\n",
      "Feature: school_x_Penn State, Score: 0.00000\n",
      "Feature: school_x_Pittsburgh, Score: 0.00000\n",
      "Feature: school_x_Portland State, Score: 0.00000\n",
      "Feature: school_x_Princeton, Score: 0.00000\n",
      "Feature: school_x_Purdue, Score: 0.00000\n",
      "Feature: school_x_Rhode Island, Score: 0.00000\n",
      "Feature: school_x_Rutgers, Score: 0.00000\n",
      "Feature: school_x_SMU, Score: 0.00000\n",
      "Feature: school_x_San Diego State, Score: 0.00000\n",
      "Feature: school_x_South Carolina, Score: 0.00000\n",
      "Feature: school_x_South Florida, Score: 0.00000\n",
      "Feature: school_x_Southern, Score: 0.00000\n",
      "Feature: school_x_Southern Illinois, Score: 0.00000\n",
      "Feature: school_x_Southern Mississippi, Score: 0.00000\n",
      "Feature: school_x_Stanford, Score: 0.00000\n",
      "Feature: school_x_Stetson, Score: 0.00000\n",
      "Feature: school_x_Syracuse, Score: 0.00000\n",
      "Feature: school_x_TCU, Score: 0.00000\n",
      "Feature: school_x_Temple, Score: 0.00000\n",
      "Feature: school_x_Tennessee, Score: 0.00000\n",
      "Feature: school_x_Texas, Score: 0.00000\n",
      "Feature: school_x_Texas A&M, Score: 0.00000\n",
      "Feature: school_x_Texas State, Score: 0.00000\n",
      "Feature: school_x_Texas Tech, Score: 0.00000\n",
      "Feature: school_x_The Citadel, Score: 0.00000\n",
      "Feature: school_x_Toledo, Score: 0.00000\n",
      "Feature: school_x_Troy, Score: 0.00000\n",
      "Feature: school_x_Tulane, Score: 0.00000\n",
      "Feature: school_x_Tulsa, Score: 0.00000\n",
      "Feature: school_x_UAB, Score: 0.00000\n",
      "Feature: school_x_UC Davis, Score: 0.00000\n",
      "Feature: school_x_UCF, Score: 0.00000\n",
      "Feature: school_x_UCLA, Score: 0.00000\n",
      "Feature: school_x_UConn, Score: 0.00000\n",
      "Feature: school_x_UL Monroe, Score: 0.00000\n",
      "Feature: school_x_USC, Score: 0.00000\n",
      "Feature: school_x_Utah, Score: 0.00000\n",
      "Feature: school_x_Utah State, Score: 0.00000\n",
      "Feature: school_x_Vanderbilt, Score: 0.00000\n",
      "Feature: school_x_Virginia, Score: 0.00000\n",
      "Feature: school_x_Virginia Tech, Score: 0.00000\n",
      "Feature: school_x_Wake Forest, Score: 0.00000\n",
      "Feature: school_x_Washington, Score: 0.00000\n",
      "Feature: school_x_Washington State, Score: 0.00000\n",
      "Feature: school_x_Weber State, Score: 0.00000\n",
      "Feature: school_x_West Virginia, Score: 0.00000\n",
      "Feature: school_x_Western Carolina, Score: 0.00000\n",
      "Feature: school_x_Western Illinois, Score: 0.00000\n",
      "Feature: school_x_Western Kentucky, Score: 0.00000\n",
      "Feature: school_x_Western Michigan, Score: 0.00000\n",
      "Feature: school_x_Wyoming, Score: 0.00000\n",
      "Feature: pos_abbr_x_C, Score: 0.00000\n",
      "Feature: pos_abbr_x_CB, Score: 0.00000\n",
      "Feature: pos_abbr_x_DB, Score: 0.00000\n",
      "Feature: pos_abbr_x_DE, Score: 0.00000\n",
      "Feature: pos_abbr_x_DT, Score: 0.00000\n",
      "Feature: pos_abbr_x_FB, Score: 0.00000\n",
      "Feature: pos_abbr_x_ILB, Score: 0.00000\n",
      "Feature: pos_abbr_x_LB, Score: 0.00000\n",
      "Feature: pos_abbr_x_LS, Score: 0.00000\n",
      "Feature: pos_abbr_x_OG, Score: 0.00000\n",
      "Feature: pos_abbr_x_OLB, Score: 0.00000\n",
      "Feature: pos_abbr_x_OT, Score: 0.00000\n",
      "Feature: pos_abbr_x_P, Score: 0.00000\n",
      "Feature: pos_abbr_x_PK, Score: 0.00000\n",
      "Feature: pos_abbr_x_QB, Score: 0.00000\n",
      "Feature: pos_abbr_x_RB, Score: 0.00000\n",
      "Feature: pos_abbr_x_S, Score: 0.00000\n",
      "Feature: pos_abbr_x_TE, Score: 0.00000\n",
      "Feature: pos_abbr_x_WR, Score: 0.00000\n",
      "Feature: school_name_Aggies, Score: 0.00000\n",
      "Feature: school_name_Aztecs, Score: 0.00000\n",
      "Feature: school_name_Bearcats, Score: 0.00000\n",
      "Feature: school_name_Bears, Score: 0.00000\n",
      "Feature: school_name_Beavers, Score: 0.00000\n",
      "Feature: school_name_Bison, Score: 0.00000\n",
      "Feature: school_name_Blazers, Score: 0.00000\n",
      "Feature: school_name_Blue Devils, Score: 0.00000\n",
      "Feature: school_name_Blue Hens, Score: 0.00000\n",
      "Feature: school_name_Blue Raiders, Score: 0.00000\n",
      "Feature: school_name_Bobcats, Score: 0.00000\n",
      "Feature: school_name_Boilermakers, Score: 0.00000\n",
      "Feature: school_name_Broncos, Score: 0.00000\n",
      "Feature: school_name_Bruins, Score: 0.00000\n",
      "Feature: school_name_Buckeyes, Score: 0.00000\n",
      "Feature: school_name_Buffaloes, Score: 0.00000\n",
      "Feature: school_name_Bulldogs, Score: 0.00000\n",
      "Feature: school_name_Bulls, Score: 0.00000\n",
      "Feature: school_name_Cardinal, Score: 0.00000\n",
      "Feature: school_name_Cardinals, Score: 0.00000\n",
      "Feature: school_name_Catamounts, Score: 0.00000\n",
      "Feature: school_name_Cavaliers, Score: 0.00000\n",
      "Feature: school_name_Chippewas, Score: 0.00000\n",
      "Feature: school_name_Commodores, Score: 0.00000\n",
      "Feature: school_name_Cornhuskers, Score: 0.00000\n",
      "Feature: school_name_Cougars, Score: 0.00000\n",
      "Feature: school_name_Cowboys, Score: 0.00000\n",
      "Feature: school_name_Crimson Tide, Score: 0.00000\n",
      "Feature: school_name_Cyclones, Score: 0.00000\n",
      "Feature: school_name_Demon Deacons, Score: 0.00000\n",
      "Feature: school_name_Demons, Score: 0.00000\n",
      "Feature: school_name_Ducks, Score: 0.00000\n",
      "Feature: school_name_Dukes, Score: 0.00000\n",
      "Feature: school_name_Eagles, Score: 0.00000\n",
      "Feature: school_name_Falcons, Score: 0.00000\n",
      "Feature: school_name_Fighting Illini, Score: 0.00000\n",
      "Feature: school_name_Fighting Irish, Score: 0.00000\n",
      "Feature: school_name_Flames, Score: 0.00000\n",
      "Feature: school_name_Flyers, Score: 0.00000\n",
      "Feature: school_name_Gamecocks, Score: 0.00000\n",
      "Feature: school_name_Gators, Score: 0.00000\n",
      "Feature: school_name_Golden Bears, Score: 0.00000\n",
      "Feature: school_name_Golden Eagles, Score: 0.00000\n",
      "Feature: school_name_Golden Gophers, Score: 0.00000\n",
      "Feature: school_name_Golden Hurricane, Score: 0.00000\n",
      "Feature: school_name_Green Wave, Score: 0.00000\n",
      "Feature: school_name_Grizzlies, Score: 0.00000\n",
      "Feature: school_name_Hatters, Score: 0.00000\n",
      "Feature: school_name_Hawkeyes, Score: 0.00000\n",
      "Feature: school_name_Hilltoppers, Score: 0.00000\n",
      "Feature: school_name_Hokies, Score: 0.00000\n",
      "Feature: school_name_Horned Frogs, Score: 0.00000\n",
      "Feature: school_name_Hurricanes, Score: 0.00000\n",
      "Feature: school_name_Huskies, Score: 0.00000\n",
      "Feature: school_name_Jaguars, Score: 0.00000\n",
      "Feature: school_name_Jayhawks, Score: 0.00000\n",
      "Feature: school_name_Knights, Score: 0.00000\n",
      "Feature: school_name_Leathernecks, Score: 0.00000\n",
      "Feature: school_name_Lobos, Score: 0.00000\n",
      "Feature: school_name_Longhorns, Score: 0.00000\n",
      "Feature: school_name_Mean Green, Score: 0.00000\n",
      "Feature: school_name_Midshipmen, Score: 0.00000\n",
      "Feature: school_name_Monarchs, Score: 0.00000\n",
      "Feature: school_name_Mountaineers, Score: 0.00000\n",
      "Feature: school_name_Mustangs, Score: 0.00000\n",
      "Feature: school_name_Nittany Lions, Score: 0.00000\n",
      "Feature: school_name_Orange, Score: 0.00000\n",
      "Feature: school_name_Owls, Score: 0.00000\n",
      "Feature: school_name_Panthers, Score: 0.00000\n",
      "Feature: school_name_Rainbow Warriors, Score: 0.00000\n",
      "Feature: school_name_Rams, Score: 0.00000\n",
      "Feature: school_name_Razorbacks, Score: 0.00000\n",
      "Feature: school_name_Rebels, Score: 0.00000\n",
      "Feature: school_name_Red Raiders, Score: 0.00000\n",
      "Feature: school_name_RedHawks, Score: 0.00000\n",
      "Feature: school_name_Redbirds, Score: 0.00000\n",
      "Feature: school_name_Rockets, Score: 0.00000\n",
      "Feature: school_name_Salukis, Score: 0.00000\n",
      "Feature: school_name_Scarlet Knights, Score: 0.00000\n",
      "Feature: school_name_Seminoles, Score: 0.00000\n",
      "Feature: school_name_Spartans, Score: 0.00000\n",
      "Feature: school_name_Sun Devils, Score: 0.00000\n",
      "Feature: school_name_Tar Heels, Score: 0.00000\n",
      "Feature: school_name_Terrapins, Score: 0.00000\n",
      "Feature: school_name_Thundering Herd, Score: 0.00000\n",
      "Feature: school_name_Tigers, Score: 0.00000\n",
      "Feature: school_name_Trojans, Score: 0.00000\n",
      "Feature: school_name_Utes, Score: 0.00000\n",
      "Feature: school_name_Vandals, Score: 0.00000\n",
      "Feature: school_name_Vikings, Score: 0.00000\n",
      "Feature: school_name_Volunteers, Score: 0.00000\n",
      "Feature: school_name_Warhawks, Score: 0.00000\n",
      "Feature: school_name_Wildcats, Score: 0.00000\n",
      "Feature: school_name_Wolfpack, Score: 0.00000\n",
      "Feature: school_name_Wolverines, Score: 0.00000\n",
      "Feature: school_name_Zips, Score: 0.00000\n",
      "Feature: position_Center, Score: 0.00000\n",
      "Feature: position_Cornerback, Score: 0.00000\n",
      "Feature: position_Defensive End, Score: 0.00000\n",
      "Feature: position_Defensive Tackle, Score: 0.00000\n",
      "Feature: position_Fullback, Score: 0.00000\n",
      "Feature: position_Inside Linebacker, Score: 0.00000\n",
      "Feature: position_Long Snapper, Score: 0.00000\n",
      "Feature: position_Offensive Guard, Score: 0.00000\n",
      "Feature: position_Offensive Tackle, Score: 0.00000\n",
      "Feature: position_Outside Linebacker, Score: 0.00000\n",
      "Feature: position_Place Kicker, Score: 0.00000\n",
      "Feature: position_Punter, Score: 0.00000\n",
      "Feature: position_Quarterback, Score: 0.00000\n",
      "Feature: position_Running Back, Score: 0.00000\n",
      "Feature: position_Safety, Score: 0.00000\n",
      "Feature: position_Tight End, Score: 0.00000\n",
      "Feature: position_Wide Receiver, Score: 0.00000\n",
      "Feature: team_Arizona Cardinals, Score: 0.00000\n",
      "Feature: team_Atlanta Falcons, Score: 0.00000\n",
      "Feature: team_Baltimore Ravens, Score: 0.00000\n",
      "Feature: team_Buffalo Bills, Score: 0.00000\n",
      "Feature: team_Carolina Panthers, Score: 0.00000\n",
      "Feature: team_Chicago Bears, Score: 0.00000\n",
      "Feature: team_Cincinnati Bengals, Score: 0.00000\n",
      "Feature: team_Cleveland Browns, Score: 0.00000\n",
      "Feature: team_Dallas Cowboys, Score: 0.00000\n",
      "Feature: team_Denver Broncos, Score: 0.00000\n",
      "Feature: team_Detroit Lions, Score: 0.00000\n",
      "Feature: team_Green Bay Packers, Score: 0.00000\n",
      "Feature: team_Houston Texans, Score: 0.00000\n",
      "Feature: team_Indianapolis Colts, Score: 0.00000\n",
      "Feature: team_Jacksonville Jaguars, Score: 0.00000\n",
      "Feature: team_Kansas City Chiefs, Score: 0.00000\n",
      "Feature: team_Las Vegas Raiders, Score: 0.00000\n",
      "Feature: team_Los Angeles Chargers, Score: 0.00000\n",
      "Feature: team_Los Angeles Rams, Score: 0.00000\n",
      "Feature: team_Miami Dolphins, Score: 0.00000\n",
      "Feature: team_Minnesota Vikings, Score: 0.00000\n",
      "Feature: team_New England Patriots, Score: 0.00000\n",
      "Feature: team_New Orleans Saints, Score: 0.00000\n",
      "Feature: team_New York Giants, Score: 0.00000\n",
      "Feature: team_New York Jets, Score: 0.00000\n",
      "Feature: team_Oakland Raiders, Score: 0.00000\n",
      "Feature: team_Philadelphia Eagles, Score: 0.00000\n",
      "Feature: team_Pittsburgh Steelers, Score: 0.00000\n",
      "Feature: team_San Francisco 49ers, Score: 0.00000\n",
      "Feature: team_Seattle Seahawks, Score: 0.00000\n",
      "Feature: team_Tampa Bay Buccaneers, Score: 0.00000\n",
      "Feature: team_Tennessee Titans, Score: 0.00000\n",
      "Feature: team_Washington, Score: 0.00000\n",
      "Feature: team_Washington Redskins, Score: 0.00000\n"
     ]
    }
   ],
   "source": [
    "# Perform permutation importance\n",
    "results = permutation_importance(best_model, X_test, y_test, scoring='accuracy')\n",
    "\n",
    "# Get importance\n",
    "importance = results.importances_mean\n",
    "\n",
    "# Summarize feature importance\n",
    "for i, v in enumerate(importance):\n",
    "    print(f'Feature: {X.columns[i]}, Score: {v:.5f}')"
   ],
   "metadata": {
    "collapsed": false,
    "ExecuteTime": {
     "end_time": "2024-03-28T17:36:48.040397Z",
     "start_time": "2024-03-28T17:36:11.123597Z"
    }
   },
   "id": "565182d1d4c6f27f"
  },
  {
   "cell_type": "code",
   "execution_count": 56,
   "outputs": [
    {
     "name": "stdout",
     "output_type": "stream",
     "text": [
      "Feature: Completions, Score: 0.00399\n",
      "Feature: Passer Rating, Score: 0.00532\n",
      "Feature: Passing Yards, Score: 0.00710\n",
      "Feature: Rushing Yards, Score: 0.00754\n",
      "Feature: Total Points, Score: 0.00222\n",
      "Feature: weight, Score: 0.30244\n",
      "Feature: ovr_rk, Score: 0.15078\n",
      "Feature: grade, Score: 0.00576\n"
     ]
    }
   ],
   "source": [
    "for i, v in enumerate(importance): \n",
    "    if v > .001: \n",
    "        print(f'Feature: {X.columns[i]}, Score: {v:.5f}')\n"
   ],
   "metadata": {
    "collapsed": false,
    "ExecuteTime": {
     "end_time": "2024-03-28T17:37:06.741611Z",
     "start_time": "2024-03-28T17:37:06.736611Z"
    }
   },
   "id": "e963344d215b405c"
  },
  {
   "cell_type": "code",
   "execution_count": null,
   "outputs": [],
   "source": [],
   "metadata": {
    "collapsed": false
   },
   "id": "918f60d51d627038"
  }
 ],
 "metadata": {
  "kernelspec": {
   "display_name": "Python 3",
   "language": "python",
   "name": "python3"
  },
  "language_info": {
   "codemirror_mode": {
    "name": "ipython",
    "version": 2
   },
   "file_extension": ".py",
   "mimetype": "text/x-python",
   "name": "python",
   "nbconvert_exporter": "python",
   "pygments_lexer": "ipython2",
   "version": "2.7.6"
  }
 },
 "nbformat": 4,
 "nbformat_minor": 5
}
